{
  "cells": [
    {
      "cell_type": "markdown",
      "metadata": {
        "id": "Q7ZGQyBqHvOQ"
      },
      "source": [
        "# PA3 - Word Embeddings\n",
        "\n",
        "### Introduction\n",
        "\n",
        "In this notebook, you will learn how to train your own word embeddings using two approaches, then explore some of the fun things you can do with them.\n",
        "\n",
        "Word Embeddings are a type of word representation that allows words with similar meaning to have a similar representation. They are a distributed representation for text that is perhaps one of the key breakthroughs for the impressive performance of deep learning methods on challenging natural language processing problems.\n",
        "\n",
        "For reference and additional details, please go through Chapter 6 of [the SLP3 book](https://web.stanford.edu/~jurafsky/slp3) and this [nice writeup by Jay Alammar](https://jalammar.github.io/illustrated-word2vec/).\n",
        "\n",
        "### Instructions\n",
        "\n",
        "- Follow along with the notebook, filling out the necessary code where instructed.\n",
        "\n",
        "- <span style=\"color: red;\">Read the Submission Instructions, Plagiarism Policy, and Late Days Policy in the attached PDF.</span>\n",
        "\n",
        "- <span style=\"color: red;\">Make sure to run all cells for credit.</span>\n",
        "\n",
        "- <span style=\"color: red;\">Do not remove any pre-written code.</span>\n",
        "\n",
        "- <span style=\"color: red;\">You must attempt all parts.</span>"
      ]
    },
    {
      "cell_type": "markdown",
      "metadata": {
        "id": "mbPPcrsCHvOc"
      },
      "source": [
        "## Part 1 - Implementing `word2vec` [80 points]\n",
        "\n",
        "In this part, you will implement the `word2vec` algorithm.\n",
        "\n",
        "While `word2vec` is more of a _framework_ for learning word embeddings, we will focus on the `SkipGram` model, specifically how it was trained in the original 2013 paper. Your primary references for understanding this algorithm will be the lecture slides, and the two aforementioned links.\n",
        "\n",
        "You will be working with the *greatest* work of literature ever written: ~~the Bee Movie script~~ **The Lord of the Rings** - specifically the first book, *The Fellowship of the Ring*.\n",
        "\n",
        "While this book is a masterpiece, it can take a while to train embeddings on the entire text. So, we will be working with a subset of the text."
      ]
    },
    {
      "cell_type": "code",
      "execution_count": null,
      "metadata": {
        "id": "DPeik4QFHvOf"
      },
      "outputs": [],
      "source": [
        "# Import in the libraries\n",
        "# Note: you are NOT allowed to use any other libraries or functions outside of these\n",
        "\n",
        "import os\n",
        "import re\n",
        "from typing import List, Union\n",
        "\n",
        "import numpy as np\n",
        "from nltk.tokenize import word_tokenize\n",
        "import matplotlib.pyplot as plt"
      ]
    },
    {
      "cell_type": "markdown",
      "metadata": {
        "id": "Eywf9m8bHvOj"
      },
      "source": [
        "### Preparing our raw data\n",
        "\n",
        "In the cell below, you will read in the data as one very long string.\n",
        "\n",
        "This will be followed by creating a `Dataset` class that will be helpful in working with your dataset when training the model. The `Dataset` class should have the following attributes/methods:\n",
        "\n",
        "- `__init__(self, data)` - the constructor that takes in the data and initializes the necessary attributes.\n",
        "\n",
        "- `data` - the data that is passed in. You can apply a very simple preprocessing pipeline: (1) substitute `,!?;-` (i.e. these five punctuation marks) with a period (i.e. `.`), (2) lowercase all the text, and (3) extract only those characters that are alphabetic or a period.\n",
        "\n",
        "- `tokens` - a list of all the tokens in the data. It might be helpful to use the `nltk.word_tokenize` function already imported for you.\n",
        "\n",
        "- `vocab` - a set of all the unique tokens in the data. Be sure to sort this and convert it to a list as to have a consistent ordering.\n",
        "\n",
        "- `vocab_size` - the length of the vocabulary.\n",
        "\n",
        "- `stoi` - a mapping from the word (s) to their index (i) in the vocab. It is important to have sorted your vocab before creating this mapping.\n",
        "\n",
        "- `itos` - a mapping from the index (i) to the word (s) in the vocab.\n",
        "\n",
        "The two mappings will be helpful in fetching your Embeddings later on, since your Embeddings will be a matrix of shape `(vocab_size, embedding_dim)` and the ordering will be dependent on your vocabulary's ordering.\n",
        "\n",
        "You might find the following boilerplate helpful:\n",
        "```python\n",
        "# Substitute the specified punctuation with periods\n",
        "data = ...\n",
        "\n",
        "# Tokenize the above plaintext to get a list of tokens\n",
        "tokens = ...\n",
        "\n",
        "# Only grab those tokens that are alphabetic or a period (can use .isalpha() here, and a == check for '.') - a list comprehension might be helpful\n",
        "tokens = ...\n",
        "\n",
        "# Lowercase all the tokens\n",
        "tokens = ...\n",
        "```"
      ]
    },
    {
      "cell_type": "code",
      "execution_count": null,
      "metadata": {
        "colab": {
          "base_uri": "https://localhost:8080/"
        },
        "id": "w-xM4XXvHvOo",
        "outputId": "865944fe-dd57-4453-ad99-2b3040ec4b03"
      },
      "outputs": [
        {
          "name": "stdout",
          "output_type": "stream",
          "text": [
            "J. R. R. Tolkien  The Lord Of The Rings. (1/4)\n",
            "-----------------------------------------------\n",
            "\n",
            "\n",
            "     THE LORD OF THE RINGS\n",
            "\n",
            "              by\n",
            "\n",
            "     J. R. R. TOLKIEN\n",
            "\n",
            "\n",
            "\n",
            " Part 1: The Fellowship of the \n"
          ]
        },
        {
          "data": {
            "text/plain": [
              "1024531"
            ]
          },
          "execution_count": 4,
          "metadata": {},
          "output_type": "execute_result"
        }
      ],
      "source": [
        "# Read in the data\n",
        "with open(\"./The Fellowship of the Ring.txt\") as f:\n",
        "    data = f.read()\n",
        "\n",
        "print(data[:200]) # print out the first 200 chars\n",
        "len(data)"
      ]
    },
    {
      "cell_type": "code",
      "execution_count": null,
      "metadata": {
        "colab": {
          "base_uri": "https://localhost:8080/"
        },
        "id": "pty0Z9xZJDFB",
        "outputId": "a3592ca9-18ee-474a-c4e3-efdefc38164c"
      },
      "outputs": [
        {
          "name": "stderr",
          "output_type": "stream",
          "text": [
            "[nltk_data] Downloading package punkt to /root/nltk_data...\n",
            "[nltk_data]   Unzipping tokenizers/punkt.zip.\n"
          ]
        },
        {
          "data": {
            "text/plain": [
              "True"
            ]
          },
          "execution_count": 5,
          "metadata": {},
          "output_type": "execute_result"
        }
      ],
      "source": [
        "import nltk\n",
        "nltk.download('punkt')"
      ]
    },
    {
      "cell_type": "code",
      "execution_count": null,
      "metadata": {
        "colab": {
          "base_uri": "https://localhost:8080/"
        },
        "id": "qGQt0xp2HvOr",
        "outputId": "e2638af6-0fa7-4247-ba4e-b679511a15cb"
      },
      "outputs": [
        {
          "data": {
            "text/plain": [
              "['a', 'hello', 'is', 'my', 'name', 'shaheer', 'z']"
            ]
          },
          "execution_count": 6,
          "metadata": {},
          "output_type": "execute_result"
        }
      ],
      "source": [
        "x = \" hello my name is shaheer is z a\"\n",
        "ans = word_tokenize(x)\n",
        "\n",
        "sorted(set(ans))"
      ]
    },
    {
      "cell_type": "code",
      "execution_count": null,
      "metadata": {
        "colab": {
          "base_uri": "https://localhost:8080/"
        },
        "id": "axQeE6vjHvOt",
        "outputId": "44ead175-88ed-4ea3-f9ff-a36d65ed2a9e"
      },
      "outputs": [
        {
          "name": "stdout",
          "output_type": "stream",
          "text": [
            "Number of tokens in dataset: 210058\n"
          ]
        }
      ],
      "source": [
        "class Dataset:\n",
        "\n",
        "    def __init__(self, data: str):\n",
        "        # pass\n",
        "        ## Your code here\n",
        "        # self.data = data\n",
        "        data = data.lower()\n",
        "        data = re.sub(r'[,!?;-]', '.', data)\n",
        "\n",
        "        tokens = word_tokenize(data)\n",
        "\n",
        "        tokens = [token.lower() for token in tokens if token.isalpha() or token == '.']\n",
        "        tokens = tokens\n",
        "        self.tokens = tokens\n",
        "\n",
        "        vocab = sorted(set(tokens))\n",
        "        self.vocab = vocab\n",
        "\n",
        "        vocab_size = len(vocab)\n",
        "        self.vocab_size = vocab_size\n",
        "\n",
        "        stoi = {}\n",
        "        itos = {}\n",
        "        index = 0\n",
        "        for word in vocab:\n",
        "            stoi[word] = index\n",
        "            itos[index] = word\n",
        "            index += 1\n",
        "\n",
        "        self.stoi = stoi\n",
        "        self.itos = itos\n",
        "        ## --\n",
        "\n",
        "    def __len__(self):\n",
        "        return len(self.tokens)\n",
        "\n",
        "dataset = Dataset(data)\n",
        "print(f\"Number of tokens in dataset: {len(dataset)}\")"
      ]
    },
    {
      "cell_type": "markdown",
      "metadata": {
        "id": "o3B98iTaHvOw"
      },
      "source": [
        "### Creating our dataset\n",
        "\n",
        "Now for the fun part of the dataset preparation: creating the windows!\n",
        "\n",
        "<center>\n",
        "<img src=\"https://jalammar.github.io/images/word2vec/skipgram-sliding-window-5.png\">\n",
        "</center>\n",
        "\n",
        "Recall in class you learned about sliding a window over the text to create the `(context, target)` pairs. You will implement this in the function below.\n",
        "\n",
        "We will adopt the following convention: the target word is at the center of a window, and the context words are the words surrounding the target word, with `ctx_size` tokens on either side.\n",
        "\n",
        "You will implement this to work with a list of tokens (whether that be in string-form, or as indices). The function should return a list of tuples, where each tuple is a pair of the form `(context, target)`."
      ]
    },
    {
      "cell_type": "markdown",
      "metadata": {
        "id": "KQxVGxUzHvOz"
      },
      "source": [
        "<details>    \n",
        "<summary>\n",
        "    <font size=\"3\" color=\"darkgreen\"><b>Hints</b></font>\n",
        "</summary>\n",
        "<p>\n",
        "<ul>\n",
        "    <li>The `range` function will return you an iterator where you can specify the start and final indices, as well as the jumps in between. Use this in constructing your for loop.</li>\n",
        "    <li>One easy way to do this is to begin the loop at the position corresponding to the first center word, then to grab the words to the left and the right in one list. After doing this, your loop moves to the next iter. Be careful with the starting and end iteration variables for your loop.</li>\n",
        "</ul>\n",
        "</p>"
      ]
    },
    {
      "cell_type": "code",
      "execution_count": null,
      "metadata": {
        "colab": {
          "base_uri": "https://localhost:8080/"
        },
        "id": "BCmbIxAwHvO3",
        "outputId": "beddd800-034b-4bdd-d444-8987df80930c"
      },
      "outputs": [
        {
          "name": "stdout",
          "output_type": "stream",
          "text": [
            "['hello', 'how', 'you', '.'] ---> are\n",
            "['how', 'are', '.', 'i'] ---> you\n",
            "['are', 'you', 'i', 'am'] ---> .\n",
            "['you', '.', 'am', 'under'] ---> i\n",
            "['.', 'i', 'under', 'the'] ---> am\n",
            "['i', 'am', 'the', 'water'] ---> under\n",
            "['am', 'under', 'water', '.'] ---> the\n",
            "['under', 'the', '.', 'please'] ---> water\n",
            "['the', 'water', 'please', 'help'] ---> .\n",
            "['water', '.', 'help', 'me'] ---> please\n",
            "['.', 'please', 'me', '.'] ---> help\n"
          ]
        }
      ],
      "source": [
        "# Create the dataset using the sliding window approach\n",
        "def get_windows(\n",
        "        data: List[Union[str, int]],\n",
        "        ctx_size: int\n",
        "        ):\n",
        "    '''\n",
        "    Generates the windows to be used later for dataset creation\n",
        "\n",
        "    Takes in a list of tokens (as strings or integers/indices) and a context size\n",
        "    This will slide a window of size 2*ctx_size + 1 over the data producing\n",
        "    the a list of center words, and the corresponding context words\n",
        "\n",
        "    Note that ctx_size is the number of context words on EITHER side of the center word\n",
        "    e.g.\n",
        "    > get_windows([\"I\", \"love\", \"my\", \"dog\", \"!\"], 2) produces the first (and only) window to be\n",
        "    ([\"I\", \"love\", \"dog\", \"!\"], \"my\")\n",
        "    '''\n",
        "\n",
        "    outside_words = []\n",
        "    center_words = []\n",
        "\n",
        "    ## Your code here\n",
        "\n",
        "    # print(data)\n",
        "    for i in range(ctx_size, (len(data) - ctx_size)):\n",
        "\n",
        "        center_words.append(data[i])\n",
        "        temp1 = []\n",
        "        temp2 = []\n",
        "        temp1 = data[i-ctx_size:i]\n",
        "        temp2 = data[i+1:i+ctx_size+1]\n",
        "        # print(temp2)\n",
        "        temp = temp1 + temp2\n",
        "        # print(temp)\n",
        "        outside_words.append(temp)\n",
        "\n",
        "    ## --\n",
        "\n",
        "    return outside_words, center_words\n",
        "\n",
        "owords, cwords = get_windows(\n",
        "    word_tokenize(\"hello how are you. i am under the water. please help me.\"),\n",
        "    2\n",
        ")\n",
        "\n",
        "for i in range(len(owords)):\n",
        "    print(f\"{owords[i]} ---> {cwords[i]}\")\n",
        "\n",
        "assert owords[1] == ['how', 'are', '.', 'i'] and cwords[1] == 'you' and len(owords) == 11, \\\n",
        "    \"Test failed\""
      ]
    },
    {
      "cell_type": "markdown",
      "metadata": {
        "id": "BB_NIcKnHvO5"
      },
      "source": [
        "Before we move on to creating our model, recall that a key component of the algorithm was **Negative Sampling** so that our model was able to see occurences of words that _didn't_ appear in the context. We will implement this in the next part.\n",
        "\n",
        "Your `sample_neg_word` is a utility function that will continue sampling a word from the specific vocabulary until it is not the word you have specified.\n",
        "\n",
        "When actually implementing the negative sampling, you will sample tokens that are _not_ the center word only - many implementations ignore the exclusion of the context words, so we will do this same simplification here."
      ]
    },
    {
      "cell_type": "markdown",
      "metadata": {
        "id": "UQtIjg-wHvO6"
      },
      "source": [
        "<details>    \n",
        "<summary>\n",
        "    <font size=\"3\" color=\"darkgreen\"><b>Hints</b></font>\n",
        "</summary>\n",
        "<p>\n",
        "<ul>\n",
        "    <li>You can use the `np.random.choice` function to sample an element from a list.</li>\n",
        "    <li>You can think about running a loop where you keep sampling until you have something that isn't the word to exclude. This is the only check you must make.</li>\n",
        "</ul>\n",
        "</p>"
      ]
    },
    {
      "cell_type": "code",
      "execution_count": null,
      "metadata": {
        "id": "Jnig41xYHvO7"
      },
      "outputs": [],
      "source": [
        "# To create the dataset, we need to get positive and negative samples according to the windows made\n",
        "\n",
        "def sample_neg_word(to_exclude: str,\n",
        "                    vocab: List[str]):\n",
        "        '''\n",
        "        Samples a negative word from the vocab, excluding the word to_exclude\n",
        "        '''\n",
        "        ## Your code here\n",
        "\n",
        "        sample_word = \"\"\n",
        "        while True:\n",
        "            word = np.random.choice(vocab)\n",
        "            if word != to_exclude:\n",
        "                  sample_word = word\n",
        "                  break\n",
        "        ## --\n",
        "\n",
        "        return sample_word"
      ]
    },
    {
      "cell_type": "markdown",
      "metadata": {
        "id": "s3TQuKBlHvO8"
      },
      "source": [
        "### Implementing the actual model\n",
        "\n",
        "Now you will make use of the `Dataset` class and the `sample_neg_word` function to implement the `SkipGram` model.\n",
        "\n",
        "Recall the steps of the model:\n",
        "\n",
        "1. Randomly initialize two matrices: `W` and `C` of shape `(vocab_size, embedding_dim)`. These will be your center/target word and context embeddings respectively.\n",
        "\n",
        "2. Being looping through each `(context, target)` pair in your dataset.\n",
        "\n",
        "    2.1. For each pair, sample `K` negative words from the vocabulary.\n",
        "\n",
        "    2.2. Compute the loss for the context and target word, as well as the negative samples.\n",
        "\n",
        "    2.3. Compute the gradients for the context and target word, as well as the `K` negative samples.\n",
        "\n",
        "    2.4. For each of these computed gradients, update the corresponding embeddings.\n",
        "\n",
        "3. Repeat this process for `num_epochs`.\n",
        "\n",
        "\n",
        "Recall the formulas for the Loss function and the gradients:\n",
        "\n",
        "$$L_{CE} = -\\log \\sigma(c_{pos} \\cdot w) - \\sum_{i=1}^{K} \\log \\sigma(-c_{neg_i} \\cdot w)$$\n",
        "\n",
        "$$\\frac{\\partial L_{CE}}{\\partial w} = [\\sigma(c_{pos} \\cdot w) - 1]c_{pos} + \\sum_{i=1}^{K} [\\sigma(c_{neg_i} \\cdot w)]c_{neg_i}$$\n",
        "\n",
        "$$\\frac{\\partial L_{CE}}{\\partial c_{pos}} = [\\sigma(c_{pos} \\cdot w) - 1]w$$\n",
        "\n",
        "$$\\frac{\\partial L_{CE}}{\\partial c_{neg_i}} = \\sigma(c_{neg_i} \\cdot w)w$$\n",
        "\n",
        "Where $c_{pos}$ is the context word, $w$ is the target word, and $c_{neg_i}$ is the $i^{th}$ negative sample.\n",
        "\n",
        "#### Implementation notes\n",
        "\n",
        "- You will be implementing all of this in the `word2vec` class, inside the `fit` function. Your embedding matrices will be initialized in the `__init__` function, according to the arguments passed in.\n",
        "\n",
        "- You **must** print out your loss after every epoch (i.e. after every pass through the dataset). If you have implemented everything perfectly, you should see the loss decreasing over time, with no numerical overflows/underflows or the like.\n",
        "\n",
        "- Your `fit` function will return the list of losses over each epoch - this will be used to visualize the training process.\n",
        "\n",
        "- <font size=\"3\" color=\"red\"><b>Do not tamper with code you haven't been permitted to modify.</b></font>"
      ]
    },
    {
      "cell_type": "code",
      "execution_count": null,
      "metadata": {
        "colab": {
          "base_uri": "https://localhost:8080/"
        },
        "id": "jK_5zA6_HvO9",
        "outputId": "553d46db-2df6-4de3-b6dc-d7d30293a513"
      },
      "outputs": [
        {
          "name": "stdout",
          "output_type": "stream",
          "text": [
            "[['tolkien', 'the', 'lord', 'the', 'rings', '.'], ['the', 'lord', 'of', 'rings', '.', 'the'], ['lord', 'of', 'the', '.', 'the', 'lord'], ['of', 'the', 'rings', 'the', 'lord', 'of'], ['the', 'rings', '.', 'lord', 'of', 'the'], ['rings', '.', 'the', 'of', 'the', 'rings'], ['.', 'the', 'lord', 'the', 'rings', 'by'], ['the', 'lord', 'of', 'rings', 'by', 'tolkien'], ['lord', 'of', 'the', 'by', 'tolkien', 'part'], ['of', 'the', 'rings', 'tolkien', 'part', 'the'], ['the', 'rings', 'by', 'part', 'the', 'fellowship'], ['rings', 'by', 'tolkien', 'the', 'fellowship', 'of'], ['by', 'tolkien', 'part', 'fellowship', 'of', 'the'], ['tolkien', 'part', 'the', 'of', 'the', 'ring'], ['part', 'the', 'fellowship', 'the', 'ring', 'part'], ['the', 'fellowship', 'of', 'ring', 'part', 'the'], ['fellowship', 'of', 'the', 'part', 'the', 'two'], ['of', 'the', 'ring', 'the', 'two', 'towers'], ['the', 'ring', 'part', 'two', 'towers', 'part'], ['ring', 'part', 'the', 'towers', 'part', 'the'], ['part', 'the', 'two', 'part', 'the', 'return'], ['the', 'two', 'towers', 'the', 'return', 'of'], ['two', 'towers', 'part', 'return', 'of', 'the'], ['towers', 'part', 'the', 'of', 'the', 'king'], ['part', 'the', 'return', 'the', 'king', 'with'], ['the', 'return', 'of', 'king', 'with', 'index'], ['return', 'of', 'the', 'with', 'index', 'and'], ['of', 'the', 'king', 'index', 'and', 'full'], ['the', 'king', 'with', 'and', 'full', 'rings'], ['king', 'with', 'index', 'full', 'rings', 'for'], ['with', 'index', 'and', 'rings', 'for', 'the'], ['index', 'and', 'full', 'for', 'the', 'under'], ['and', 'full', 'rings', 'the', 'under', 'the'], ['full', 'rings', 'for', 'under', 'the', 'sky'], ['rings', 'for', 'the', 'the', 'sky', '.'], ['for', 'the', 'under', 'sky', '.', 'seven'], ['the', 'under', 'the', '.', 'seven', 'for'], ['under', 'the', 'sky', 'seven', 'for', 'the'], ['the', 'sky', '.', 'for', 'the', 'in'], ['sky', '.', 'seven', 'the', 'in', 'their'], ['.', 'seven', 'for', 'in', 'their', 'halls'], ['seven', 'for', 'the', 'their', 'halls', 'of'], ['for', 'the', 'in', 'halls', 'of', 'stone'], ['the', 'in', 'their', 'of', 'stone', '.'], ['in', 'their', 'halls', 'stone', '.', 'nine'], ['their', 'halls', 'of', '.', 'nine', 'for'], ['halls', 'of', 'stone', 'nine', 'for', 'mortal'], ['of', 'stone', '.', 'for', 'mortal', 'men'], ['stone', '.', 'nine', 'mortal', 'men', 'doomed'], ['.', 'nine', 'for', 'men', 'doomed', 'to'], ['nine', 'for', 'mortal', 'doomed', 'to', 'die'], ['for', 'mortal', 'men', 'to', 'die', '.'], ['mortal', 'men', 'doomed', 'die', '.', 'one'], ['men', 'doomed', 'to', '.', 'one', 'for'], ['doomed', 'to', 'die', 'one', 'for', 'the'], ['to', 'die', '.', 'for', 'the', 'dark'], ['die', '.', 'one', 'the', 'dark', 'lord'], ['.', 'one', 'for', 'dark', 'lord', 'on'], ['one', 'for', 'the', 'lord', 'on', 'his'], ['for', 'the', 'dark', 'on', 'his', 'dark'], ['the', 'dark', 'lord', 'his', 'dark', 'throne'], ['dark', 'lord', 'on', 'dark', 'throne', 'in'], ['lord', 'on', 'his', 'throne', 'in', 'the'], ['on', 'his', 'dark', 'in', 'the', 'land'], ['his', 'dark', 'throne', 'the', 'land', 'of'], ['dark', 'throne', 'in', 'land', 'of', 'mordor'], ['throne', 'in', 'the', 'of', 'mordor', 'where'], ['in', 'the', 'land', 'mordor', 'where', 'the'], ['the', 'land', 'of', 'where', 'the', 'shadows'], ['land', 'of', 'mordor', 'the', 'shadows', 'lie'], ['of', 'mordor', 'where', 'shadows', 'lie', '.'], ['mordor', 'where', 'the', 'lie', '.', 'one'], ['where', 'the', 'shadows', '.', 'one', 'ring'], ['the', 'shadows', 'lie', 'one', 'ring', 'to'], ['shadows', 'lie', '.', 'ring', 'to', 'rule'], ['lie', '.', 'one', 'to', 'rule', 'them'], ['.', 'one', 'ring', 'rule', 'them', 'all'], ['one', 'ring', 'to', 'them', 'all', '.'], ['ring', 'to', 'rule', 'all', '.', 'one'], ['to', 'rule', 'them', '.', 'one', 'ring'], ['rule', 'them', 'all', 'one', 'ring', 'to'], ['them', 'all', '.', 'ring', 'to', 'find'], ['all', '.', 'one', 'to', 'find', 'them'], ['.', 'one', 'ring', 'find', 'them', '.'], ['one', 'ring', 'to', 'them', '.', 'one'], ['ring', 'to', 'find', '.', 'one', 'ring'], ['to', 'find', 'them', 'one', 'ring', 'to'], ['find', 'them', '.', 'ring', 'to', 'bring'], ['them', '.', 'one', 'to', 'bring', 'them'], ['.', 'one', 'ring', 'bring', 'them', 'all'], ['one', 'ring', 'to', 'them', 'all', 'and'], ['ring', 'to', 'bring', 'all', 'and', 'in'], ['to', 'bring', 'them', 'and', 'in', 'the'], ['bring', 'them', 'all', 'in', 'the', 'darkness'], ['them', 'all', 'and', 'the', 'darkness', 'bind'], ['all', 'and', 'in', 'darkness', 'bind', 'them'], ['and', 'in', 'the', 'bind', 'them', 'in'], ['in', 'the', 'darkness', 'them', 'in', 'the'], ['the', 'darkness', 'bind', 'in', 'the', 'land'], ['darkness', 'bind', 'them', 'the', 'land', 'of'], ['bind', 'them', 'in', 'land', 'of', 'mordor'], ['them', 'in', 'the', 'of', 'mordor', 'where'], ['in', 'the', 'land', 'mordor', 'where', 'the'], ['the', 'land', 'of', 'where', 'the', 'shadows'], ['land', 'of', 'mordor', 'the', 'shadows', 'contents'], ['of', 'mordor', 'where', 'shadows', 'contents', 'foreword'], ['mordor', 'where', 'the', 'contents', 'foreword', 'prologue'], ['where', 'the', 'shadows', 'foreword', 'prologue', 'concerning'], ['the', 'shadows', 'contents', 'prologue', 'concerning', 'hobbits'], ['shadows', 'contents', 'foreword', 'concerning', 'hobbits', 'concerning'], ['contents', 'foreword', 'prologue', 'hobbits', 'concerning', 'of'], ['foreword', 'prologue', 'concerning', 'concerning', 'of', 'the'], ['prologue', 'concerning', 'hobbits', 'of', 'the', 'ordering'], ['concerning', 'hobbits', 'concerning', 'the', 'ordering', 'of'], ['hobbits', 'concerning', 'of', 'ordering', 'of', 'the'], ['concerning', 'of', 'the', 'of', 'the', 'shire'], ['of', 'the', 'ordering', 'the', 'shire', 'of'], ['the', 'ordering', 'of', 'shire', 'of', 'the'], ['ordering', 'of', 'the', 'of', 'the', 'finding'], ['of', 'the', 'shire', 'the', 'finding', 'of'], ['the', 'shire', 'of', 'finding', 'of', 'the'], ['shire', 'of', 'the', 'of', 'the', 'ring'], ['of', 'the', 'finding', 'the', 'ring', 'note'], ['the', 'finding', 'of', 'ring', 'note', 'on'], ['finding', 'of', 'the', 'note', 'on', 'the'], ['of', 'the', 'ring', 'on', 'the', 'shire'], ['the', 'ring', 'note', 'the', 'shire', 'records'], ['ring', 'note', 'on', 'shire', 'records', 'the'], ['note', 'on', 'the', 'records', 'the', 'fellowship'], ['on', 'the', 'shire', 'the', 'fellowship', 'of'], ['the', 'shire', 'records', 'fellowship', 'of', 'the'], ['shire', 'records', 'the', 'of', 'the', 'ring'], ['records', 'the', 'fellowship', 'the', 'ring', 'book'], ['the', 'fellowship', 'of', 'ring', 'book', 'i'], ['fellowship', 'of', 'the', 'book', 'i', 'chapter'], ['of', 'the', 'ring', 'i', 'chapter', 'a'], ['the', 'ring', 'book', 'chapter', 'a', 'party'], ['ring', 'book', 'i', 'a', 'party', 'chapter'], ['book', 'i', 'chapter', 'party', 'chapter', 'the'], ['i', 'chapter', 'a', 'chapter', 'the', 'shadow'], ['chapter', 'a', 'party', 'the', 'shadow', 'of'], ['a', 'party', 'chapter', 'shadow', 'of', 'the'], ['party', 'chapter', 'the', 'of', 'the', 'past'], ['chapter', 'the', 'shadow', 'the', 'past', 'chapter'], ['the', 'shadow', 'of', 'past', 'chapter', 'three'], ['shadow', 'of', 'the', 'chapter', 'three', 'is'], ['of', 'the', 'past', 'three', 'is', 'company'], ['the', 'past', 'chapter', 'is', 'company', 'chapter'], ['past', 'chapter', 'three', 'company', 'chapter', 'a'], ['chapter', 'three', 'is', 'chapter', 'a', 'short'], ['three', 'is', 'company', 'a', 'short', 'cut'], ['is', 'company', 'chapter', 'short', 'cut', 'to'], ['company', 'chapter', 'a', 'cut', 'to', 'mushrooms'], ['chapter', 'a', 'short', 'to', 'mushrooms', 'chapter'], ['a', 'short', 'cut', 'mushrooms', 'chapter', 'a'], ['short', 'cut', 'to', 'chapter', 'a', 'conspiracy'], ['cut', 'to', 'mushrooms', 'a', 'conspiracy', 'unmasked'], ['to', 'mushrooms', 'chapter', 'conspiracy', 'unmasked', 'chapter'], ['mushrooms', 'chapter', 'a', 'unmasked', 'chapter', 'the'], ['chapter', 'a', 'conspiracy', 'chapter', 'the', 'old'], ['a', 'conspiracy', 'unmasked', 'the', 'old', 'forest'], ['conspiracy', 'unmasked', 'chapter', 'old', 'forest', 'chapter'], ['unmasked', 'chapter', 'the', 'forest', 'chapter', 'in'], ['chapter', 'the', 'old', 'chapter', 'in', 'the'], ['the', 'old', 'forest', 'in', 'the', 'house'], ['old', 'forest', 'chapter', 'the', 'house', 'of'], ['forest', 'chapter', 'in', 'house', 'of', 'tom'], ['chapter', 'in', 'the', 'of', 'tom', 'bombadil'], ['in', 'the', 'house', 'tom', 'bombadil', 'chapter'], ['the', 'house', 'of', 'bombadil', 'chapter', 'fog'], ['house', 'of', 'tom', 'chapter', 'fog', 'on'], ['of', 'tom', 'bombadil', 'fog', 'on', 'the'], ['tom', 'bombadil', 'chapter', 'on', 'the', 'chapter'], ['bombadil', 'chapter', 'fog', 'the', 'chapter', 'at'], ['chapter', 'fog', 'on', 'chapter', 'at', 'the'], ['fog', 'on', 'the', 'at', 'the', 'sign'], ['on', 'the', 'chapter', 'the', 'sign', 'of'], ['the', 'chapter', 'at', 'sign', 'of', 'the'], ['chapter', 'at', 'the', 'of', 'the', 'prancing'], ['at', 'the', 'sign', 'the', 'prancing', 'pony'], ['the', 'sign', 'of', 'prancing', 'pony', 'chapter'], ['sign', 'of', 'the', 'pony', 'chapter', 'strider'], ['of', 'the', 'prancing', 'chapter', 'strider', 'chapter'], ['the', 'prancing', 'pony', 'strider', 'chapter', 'a'], ['prancing', 'pony', 'chapter', 'chapter', 'a', 'knife'], ['pony', 'chapter', 'strider', 'a', 'knife', 'in'], ['chapter', 'strider', 'chapter', 'knife', 'in', 'the'], ['strider', 'chapter', 'a', 'in', 'the', 'dark'], ['chapter', 'a', 'knife', 'the', 'dark', 'chapter'], ['a', 'knife', 'in', 'dark', 'chapter', 'flight'], ['knife', 'in', 'the', 'chapter', 'flight', 'to'], ['in', 'the', 'dark', 'flight', 'to', 'the'], ['the', 'dark', 'chapter', 'to', 'the', 'ford'], ['dark', 'chapter', 'flight', 'the', 'ford', 'book'], ['chapter', 'flight', 'to', 'ford', 'book', 'ii'], ['flight', 'to', 'the', 'book', 'ii', 'chapter'], ['to', 'the', 'ford', 'ii', 'chapter', 'many'], ['the', 'ford', 'book', 'chapter', 'many', 'meetings'], ['ford', 'book', 'ii', 'many', 'meetings', 'chapter'], ['book', 'ii', 'chapter', 'meetings', 'chapter', 'the'], ['ii', 'chapter', 'many', 'chapter', 'the', 'council'], ['chapter', 'many', 'meetings', 'the', 'council', 'of'], ['many', 'meetings', 'chapter', 'council', 'of', 'elrond'], ['meetings', 'chapter', 'the', 'of', 'elrond', 'chapter'], ['chapter', 'the', 'council', 'elrond', 'chapter', 'the'], ['the', 'council', 'of', 'chapter', 'the', 'ring'], ['council', 'of', 'elrond', 'the', 'ring', 'goes'], ['of', 'elrond', 'chapter', 'ring', 'goes', 'south'], ['elrond', 'chapter', 'the', 'goes', 'south', 'chapter'], ['chapter', 'the', 'ring', 'south', 'chapter', 'a'], ['the', 'ring', 'goes', 'chapter', 'a', 'journey'], ['ring', 'goes', 'south', 'a', 'journey', 'in'], ['goes', 'south', 'chapter', 'journey', 'in', 'the'], ['south', 'chapter', 'a', 'in', 'the', 'dark'], ['chapter', 'a', 'journey', 'the', 'dark', 'chapter'], ['a', 'journey', 'in', 'dark', 'chapter', 'the'], ['journey', 'in', 'the', 'chapter', 'the', 'bridge'], ['in', 'the', 'dark', 'the', 'bridge', 'of'], ['the', 'dark', 'chapter', 'bridge', 'of', 'chapter'], ['dark', 'chapter', 'the', 'of', 'chapter', 'lothlórien'], ['chapter', 'the', 'bridge', 'chapter', 'lothlórien', 'chapter'], ['the', 'bridge', 'of', 'lothlórien', 'chapter', 'the'], ['bridge', 'of', 'chapter', 'chapter', 'the', 'mirror'], ['of', 'chapter', 'lothlórien', 'the', 'mirror', 'of'], ['chapter', 'lothlórien', 'chapter', 'mirror', 'of', 'galadriel'], ['lothlórien', 'chapter', 'the', 'of', 'galadriel', 'chapter'], ['chapter', 'the', 'mirror', 'galadriel', 'chapter', 'farewell'], ['the', 'mirror', 'of', 'chapter', 'farewell', 'to'], ['mirror', 'of', 'galadriel', 'farewell', 'to', 'lórien'], ['of', 'galadriel', 'chapter', 'to', 'lórien', 'chapter'], ['galadriel', 'chapter', 'farewell', 'lórien', 'chapter', 'the'], ['chapter', 'farewell', 'to', 'chapter', 'the', 'great'], ['farewell', 'to', 'lórien', 'the', 'great', 'river'], ['to', 'lórien', 'chapter', 'great', 'river', 'chapter'], ['lórien', 'chapter', 'the', 'river', 'chapter', 'the'], ['chapter', 'the', 'great', 'chapter', 'the', 'breaking'], ['the', 'great', 'river', 'the', 'breaking', 'of'], ['great', 'river', 'chapter', 'breaking', 'of', 'the'], ['river', 'chapter', 'the', 'of', 'the', 'fellowship'], ['chapter', 'the', 'breaking', 'the', 'fellowship', 'the'], ['the', 'breaking', 'of', 'fellowship', 'the', 'two'], ['breaking', 'of', 'the', 'the', 'two', 'towers'], ['of', 'the', 'fellowship', 'two', 'towers', 'book'], ['the', 'fellowship', 'the', 'towers', 'book', 'iii'], ['fellowship', 'the', 'two', 'book', 'iii', 'chapter'], ['the', 'two', 'towers', 'iii', 'chapter', 'the'], ['two', 'towers', 'book', 'chapter', 'the', 'departure'], ['towers', 'book', 'iii', 'the', 'departure', 'of'], ['book', 'iii', 'chapter', 'departure', 'of', 'boromir'], ['iii', 'chapter', 'the', 'of', 'boromir', 'chapter'], ['chapter', 'the', 'departure', 'boromir', 'chapter', 'the'], ['the', 'departure', 'of', 'chapter', 'the', 'riders'], ['departure', 'of', 'boromir', 'the', 'riders', 'of'], ['of', 'boromir', 'chapter', 'riders', 'of', 'rohan'], ['boromir', 'chapter', 'the', 'of', 'rohan', 'chapter'], ['chapter', 'the', 'riders', 'rohan', 'chapter', 'the'], ['the', 'riders', 'of', 'chapter', 'the', 'chapter'], ['riders', 'of', 'rohan', 'the', 'chapter', 'treebeard'], ['of', 'rohan', 'chapter', 'chapter', 'treebeard', 'chapter'], ['rohan', 'chapter', 'the', 'treebeard', 'chapter', 'the'], ['chapter', 'the', 'chapter', 'chapter', 'the', 'white'], ['the', 'chapter', 'treebeard', 'the', 'white', 'rider'], ['chapter', 'treebeard', 'chapter', 'white', 'rider', 'chapter'], ['treebeard', 'chapter', 'the', 'rider', 'chapter', 'the'], ['chapter', 'the', 'white', 'chapter', 'the', 'king'], ['the', 'white', 'rider', 'the', 'king', 'of'], ['white', 'rider', 'chapter', 'king', 'of', 'the'], ['rider', 'chapter', 'the', 'of', 'the', 'golden'], ['chapter', 'the', 'king', 'the', 'golden', 'hall'], ['the', 'king', 'of', 'golden', 'hall', 'chapter'], ['king', 'of', 'the', 'hall', 'chapter', 'helm'], ['of', 'the', 'golden', 'chapter', 'helm', 'deep'], ['the', 'golden', 'hall', 'helm', 'deep', 'chapter'], ['golden', 'hall', 'chapter', 'deep', 'chapter', 'the'], ['hall', 'chapter', 'helm', 'chapter', 'the', 'road'], ['chapter', 'helm', 'deep', 'the', 'road', 'to'], ['helm', 'deep', 'chapter', 'road', 'to', 'isengard'], ['deep', 'chapter', 'the', 'to', 'isengard', 'chapter'], ['chapter', 'the', 'road', 'isengard', 'chapter', 'flotsam'], ['the', 'road', 'to', 'chapter', 'flotsam', 'and'], ['road', 'to', 'isengard', 'flotsam', 'and', 'jetsam'], ['to', 'isengard', 'chapter', 'and', 'jetsam', 'chapter'], ['isengard', 'chapter', 'flotsam', 'jetsam', 'chapter', 'the'], ['chapter', 'flotsam', 'and', 'chapter', 'the', 'voice'], ['flotsam', 'and', 'jetsam', 'the', 'voice', 'of'], ['and', 'jetsam', 'chapter', 'voice', 'of', 'saruman'], ['jetsam', 'chapter', 'the', 'of', 'saruman', 'chapter'], ['chapter', 'the', 'voice', 'saruman', 'chapter', 'the'], ['the', 'voice', 'of', 'chapter', 'the', 'palantýr'], ['voice', 'of', 'saruman', 'the', 'palantýr', 'book'], ['of', 'saruman', 'chapter', 'palantýr', 'book', 'iv'], ['saruman', 'chapter', 'the', 'book', 'iv', 'chapter'], ['chapter', 'the', 'palantýr', 'iv', 'chapter', 'the'], ['the', 'palantýr', 'book', 'chapter', 'the', 'taming'], ['palantýr', 'book', 'iv', 'the', 'taming', 'of'], ['book', 'iv', 'chapter', 'taming', 'of', 'sméagol'], ['iv', 'chapter', 'the', 'of', 'sméagol', 'chapter'], ['chapter', 'the', 'taming', 'sméagol', 'chapter', 'the'], ['the', 'taming', 'of', 'chapter', 'the', 'passage'], ['taming', 'of', 'sméagol', 'the', 'passage', 'of'], ['of', 'sméagol', 'chapter', 'passage', 'of', 'the'], ['sméagol', 'chapter', 'the', 'of', 'the', 'marshes'], ['chapter', 'the', 'passage', 'the', 'marshes', 'chapter'], ['the', 'passage', 'of', 'marshes', 'chapter', 'the'], ['passage', 'of', 'the', 'chapter', 'the', 'black'], ['of', 'the', 'marshes', 'the', 'black', 'gate'], ['the', 'marshes', 'chapter', 'black', 'gate', 'is'], ['marshes', 'chapter', 'the', 'gate', 'is', 'closed'], ['chapter', 'the', 'black', 'is', 'closed', 'chapter'], ['the', 'black', 'gate', 'closed', 'chapter', 'of'], ['black', 'gate', 'is', 'chapter', 'of', 'herbs'], ['gate', 'is', 'closed', 'of', 'herbs', 'and'], ['is', 'closed', 'chapter', 'herbs', 'and', 'stewed'], ['closed', 'chapter', 'of', 'and', 'stewed', 'rabbit'], ['chapter', 'of', 'herbs', 'stewed', 'rabbit', 'chapter'], ['of', 'herbs', 'and', 'rabbit', 'chapter', 'the'], ['herbs', 'and', 'stewed', 'chapter', 'the', 'window'], ['and', 'stewed', 'rabbit', 'the', 'window', 'on'], ['stewed', 'rabbit', 'chapter', 'window', 'on', 'the'], ['rabbit', 'chapter', 'the', 'on', 'the', 'west'], ['chapter', 'the', 'window', 'the', 'west', 'chapter'], ['the', 'window', 'on', 'west', 'chapter', 'the'], ['window', 'on', 'the', 'chapter', 'the', 'forbidden'], ['on', 'the', 'west', 'the', 'forbidden', 'pool'], ['the', 'west', 'chapter', 'forbidden', 'pool', 'chapter'], ['west', 'chapter', 'the', 'pool', 'chapter', 'journey'], ['chapter', 'the', 'forbidden', 'chapter', 'journey', 'to'], ['the', 'forbidden', 'pool', 'journey', 'to', 'the'], ['forbidden', 'pool', 'chapter', 'to', 'the', 'chapter'], ['pool', 'chapter', 'journey', 'the', 'chapter', 'the'], ['chapter', 'journey', 'to', 'chapter', 'the', 'stairs'], ['journey', 'to', 'the', 'the', 'stairs', 'of'], ['to', 'the', 'chapter', 'stairs', 'of', 'cirith'], ['the', 'chapter', 'the', 'of', 'cirith', 'ungol'], ['chapter', 'the', 'stairs', 'cirith', 'ungol', 'chapter'], ['the', 'stairs', 'of', 'ungol', 'chapter', 'shelob'], ['stairs', 'of', 'cirith', 'chapter', 'shelob', 'lair'], ['of', 'cirith', 'ungol', 'shelob', 'lair', 'chapter'], ['cirith', 'ungol', 'chapter', 'lair', 'chapter', 'the'], ['ungol', 'chapter', 'shelob', 'chapter', 'the', 'choices'], ['chapter', 'shelob', 'lair', 'the', 'choices', 'of'], ['shelob', 'lair', 'chapter', 'choices', 'of', 'master'], ['lair', 'chapter', 'the', 'of', 'master', 'samwise'], ['chapter', 'the', 'choices', 'master', 'samwise', 'the'], ['the', 'choices', 'of', 'samwise', 'the', 'return'], ['choices', 'of', 'master', 'the', 'return', 'of'], ['of', 'master', 'samwise', 'return', 'of', 'the'], ['master', 'samwise', 'the', 'of', 'the', 'king'], ['samwise', 'the', 'return', 'the', 'king', 'book'], ['the', 'return', 'of', 'king', 'book', 'v'], ['return', 'of', 'the', 'book', 'v', 'chapter'], ['of', 'the', 'king', 'v', 'chapter', 'minas'], ['the', 'king', 'book', 'chapter', 'minas', 'tirith'], ['king', 'book', 'v', 'minas', 'tirith', 'chapter'], ['book', 'v', 'chapter', 'tirith', 'chapter', 'the'], ['v', 'chapter', 'minas', 'chapter', 'the', 'passing'], ['chapter', 'minas', 'tirith', 'the', 'passing', 'of'], ['minas', 'tirith', 'chapter', 'passing', 'of', 'the'], ['tirith', 'chapter', 'the', 'of', 'the', 'grey'], ['chapter', 'the', 'passing', 'the', 'grey', 'company'], ['the', 'passing', 'of', 'grey', 'company', 'chapter'], ['passing', 'of', 'the', 'company', 'chapter', 'the'], ['of', 'the', 'grey', 'chapter', 'the', 'muster'], ['the', 'grey', 'company', 'the', 'muster', 'of'], ['grey', 'company', 'chapter', 'muster', 'of', 'rohan'], ['company', 'chapter', 'the', 'of', 'rohan', 'chapter'], ['chapter', 'the', 'muster', 'rohan', 'chapter', 'the'], ['the', 'muster', 'of', 'chapter', 'the', 'siege'], ['muster', 'of', 'rohan', 'the', 'siege', 'of'], ['of', 'rohan', 'chapter', 'siege', 'of', 'gondor'], ['rohan', 'chapter', 'the', 'of', 'gondor', 'chapter'], ['chapter', 'the', 'siege', 'gondor', 'chapter', 'the'], ['the', 'siege', 'of', 'chapter', 'the', 'ride'], ['siege', 'of', 'gondor', 'the', 'ride', 'of'], ['of', 'gondor', 'chapter', 'ride', 'of', 'the'], ['gondor', 'chapter', 'the', 'of', 'the', 'rohirrim'], ['chapter', 'the', 'ride', 'the', 'rohirrim', 'chapter'], ['the', 'ride', 'of', 'rohirrim', 'chapter', 'the'], ['ride', 'of', 'the', 'chapter', 'the', 'battle'], ['of', 'the', 'rohirrim', 'the', 'battle', 'of'], ['the', 'rohirrim', 'chapter', 'battle', 'of', 'the'], ['rohirrim', 'chapter', 'the', 'of', 'the', 'pelennor'], ['chapter', 'the', 'battle', 'the', 'pelennor', 'fields'], ['the', 'battle', 'of', 'pelennor', 'fields', 'chapter'], ['battle', 'of', 'the', 'fields', 'chapter', 'the'], ['of', 'the', 'pelennor', 'chapter', 'the', 'pyre'], ['the', 'pelennor', 'fields', 'the', 'pyre', 'of'], ['pelennor', 'fields', 'chapter', 'pyre', 'of', 'denethor'], ['fields', 'chapter', 'the', 'of', 'denethor', 'chapter'], ['chapter', 'the', 'pyre', 'denethor', 'chapter', 'the'], ['the', 'pyre', 'of', 'chapter', 'the', 'houses'], ['pyre', 'of', 'denethor', 'the', 'houses', 'of'], ['of', 'denethor', 'chapter', 'houses', 'of', 'healing'], ['denethor', 'chapter', 'the', 'of', 'healing', 'chapter'], ['chapter', 'the', 'houses', 'healing', 'chapter', 'the'], ['the', 'houses', 'of', 'chapter', 'the', 'last'], ['houses', 'of', 'healing', 'the', 'last', 'debate'], ['of', 'healing', 'chapter', 'last', 'debate', 'chapter'], ['healing', 'chapter', 'the', 'debate', 'chapter', 'the'], ['chapter', 'the', 'last', 'chapter', 'the', 'black'], ['the', 'last', 'debate', 'the', 'black', 'gate'], ['last', 'debate', 'chapter', 'black', 'gate', 'opens'], ['debate', 'chapter', 'the', 'gate', 'opens', 'book'], ['chapter', 'the', 'black', 'opens', 'book', 'vi'], ['the', 'black', 'gate', 'book', 'vi', 'chapter'], ['black', 'gate', 'opens', 'vi', 'chapter', 'the'], ['gate', 'opens', 'book', 'chapter', 'the', 'tower'], ['opens', 'book', 'vi', 'the', 'tower', 'of'], ['book', 'vi', 'chapter', 'tower', 'of', 'cirith'], ['vi', 'chapter', 'the', 'of', 'cirith', 'ungol'], ['chapter', 'the', 'tower', 'cirith', 'ungol', 'chapter'], ['the', 'tower', 'of', 'ungol', 'chapter', 'the'], ['tower', 'of', 'cirith', 'chapter', 'the', 'land'], ['of', 'cirith', 'ungol', 'the', 'land', 'of'], ['cirith', 'ungol', 'chapter', 'land', 'of', 'shadow'], ['ungol', 'chapter', 'the', 'of', 'shadow', 'chapter'], ['chapter', 'the', 'land', 'shadow', 'chapter', 'mount'], ['the', 'land', 'of', 'chapter', 'mount', 'doom'], ['land', 'of', 'shadow', 'mount', 'doom', 'chapter'], ['of', 'shadow', 'chapter', 'doom', 'chapter', 'the'], ['shadow', 'chapter', 'mount', 'chapter', 'the', 'field'], ['chapter', 'mount', 'doom', 'the', 'field', 'of'], ['mount', 'doom', 'chapter', 'field', 'of', 'cormallen'], ['doom', 'chapter', 'the', 'of', 'cormallen', 'chapter'], ['chapter', 'the', 'field', 'cormallen', 'chapter', 'the'], ['the', 'field', 'of', 'chapter', 'the', 'steward'], ['field', 'of', 'cormallen', 'the', 'steward', 'and'], ['of', 'cormallen', 'chapter', 'steward', 'and', 'the'], ['cormallen', 'chapter', 'the', 'and', 'the', 'king'], ['chapter', 'the', 'steward', 'the', 'king', 'chapter'], ['the', 'steward', 'and', 'king', 'chapter', 'many'], ['steward', 'and', 'the', 'chapter', 'many', 'partings'], ['and', 'the', 'king', 'many', 'partings', 'chapter'], ['the', 'king', 'chapter', 'partings', 'chapter', 'homeward'], ['king', 'chapter', 'many', 'chapter', 'homeward', 'bound'], ['chapter', 'many', 'partings', 'homeward', 'bound', 'chapter'], ['many', 'partings', 'chapter', 'bound', 'chapter', 'the'], ['partings', 'chapter', 'homeward', 'chapter', 'the', 'scouring'], ['chapter', 'homeward', 'bound', 'the', 'scouring', 'of'], ['homeward', 'bound', 'chapter', 'scouring', 'of', 'the'], ['bound', 'chapter', 'the', 'of', 'the', 'shire'], ['chapter', 'the', 'scouring', 'the', 'shire', 'chapter'], ['the', 'scouring', 'of', 'shire', 'chapter', 'the'], ['scouring', 'of', 'the', 'chapter', 'the', 'grey'], ['of', 'the', 'shire', 'the', 'grey', 'havens'], ['the', 'shire', 'chapter', 'grey', 'havens', 'appendices'], ['shire', 'chapter', 'the', 'havens', 'appendices', 'a'], ['chapter', 'the', 'grey', 'appendices', 'a', 'annals'], ['the', 'grey', 'havens', 'a', 'annals', 'of'], ['grey', 'havens', 'appendices', 'annals', 'of', 'the'], ['havens', 'appendices', 'a', 'of', 'the', 'kings'], ['appendices', 'a', 'annals', 'the', 'kings', 'and'], ['a', 'annals', 'of', 'kings', 'and', 'rulers'], ['annals', 'of', 'the', 'and', 'rulers', 'i'], ['of', 'the', 'kings', 'rulers', 'i', 'the'], ['the', 'kings', 'and', 'i', 'the', 'númenorean'], ['kings', 'and', 'rulers', 'the', 'númenorean', 'kings'], ['and', 'rulers', 'i', 'númenorean', 'kings', 'i'], ['rulers', 'i', 'the', 'kings', 'i', 'númenor'], ['i', 'the', 'númenorean', 'i', 'númenor', 'ii'], ['the', 'númenorean', 'kings', 'númenor', 'ii', 'the'], ['númenorean', 'kings', 'i', 'ii', 'the', 'realms'], ['kings', 'i', 'númenor', 'the', 'realms', 'in'], ['i', 'númenor', 'ii', 'realms', 'in', 'exile'], ['númenor', 'ii', 'the', 'in', 'exile', 'iii'], ['ii', 'the', 'realms', 'exile', 'iii', 'eriador'], ['the', 'realms', 'in', 'iii', 'eriador', '.'], ['realms', 'in', 'exile', 'eriador', '.', 'arnor'], ['in', 'exile', 'iii', '.', 'arnor', '.'], ['exile', 'iii', 'eriador', 'arnor', '.', 'and'], ['iii', 'eriador', '.', '.', 'and', 'the'], ['eriador', '.', 'arnor', 'and', 'the', 'heirs'], ['.', 'arnor', '.', 'the', 'heirs', 'of'], ['arnor', '.', 'and', 'heirs', 'of', 'isildur'], ['.', 'and', 'the', 'of', 'isildur', 'iv'], ['and', 'the', 'heirs', 'isildur', 'iv', 'gondor'], ['the', 'heirs', 'of', 'iv', 'gondor', 'and'], ['heirs', 'of', 'isildur', 'gondor', 'and', 'the'], ['of', 'isildur', 'iv', 'and', 'the', 'heirs'], ['isildur', 'iv', 'gondor', 'the', 'heirs', 'of'], ['iv', 'gondor', 'and', 'heirs', 'of', 'anñrion'], ['gondor', 'and', 'the', 'of', 'anñrion', 'v'], ['and', 'the', 'heirs', 'anñrion', 'v', 'here'], ['the', 'heirs', 'of', 'v', 'here', 'follows'], ['heirs', 'of', 'anñrion', 'here', 'follows', 'a'], ['of', 'anñrion', 'v', 'follows', 'a', 'part'], ['anñrion', 'v', 'here', 'a', 'part', 'of'], ['v', 'here', 'follows', 'part', 'of', 'the'], ['here', 'follows', 'a', 'of', 'the', 'tale'], ['follows', 'a', 'part', 'the', 'tale', 'of'], ['a', 'part', 'of', 'tale', 'of', 'aragorn'], ['part', 'of', 'the', 'of', 'aragorn', 'and'], ['of', 'the', 'tale', 'aragorn', 'and', 'arwen'], ['the', 'tale', 'of', 'and', 'arwen', 'ii'], ['tale', 'of', 'aragorn', 'arwen', 'ii', 'the'], ['of', 'aragorn', 'and', 'ii', 'the', 'house'], ['aragorn', 'and', 'arwen', 'the', 'house', 'of'], ['and', 'arwen', 'ii', 'house', 'of', 'eorl'], ['arwen', 'ii', 'the', 'of', 'eorl', 'iii'], ['ii', 'the', 'house', 'eorl', 'iii', 'durin'], ['the', 'house', 'of', 'iii', 'durin', 'folk'], ['house', 'of', 'eorl', 'durin', 'folk', 'here'], ['of', 'eorl', 'iii', 'folk', 'here', 'follows'], ['eorl', 'iii', 'durin', 'here', 'follows', 'one'], ['iii', 'durin', 'folk', 'follows', 'one', 'of'], ['durin', 'folk', 'here', 'one', 'of', 'the'], ['folk', 'here', 'follows', 'of', 'the', 'last'], ['here', 'follows', 'one', 'the', 'last', 'notes'], ['follows', 'one', 'of', 'last', 'notes', 'in'], ['one', 'of', 'the', 'notes', 'in', 'the'], ['of', 'the', 'last', 'in', 'the', 'red'], ['the', 'last', 'notes', 'the', 'red', 'book'], ['last', 'notes', 'in', 'red', 'book', 'b'], ['notes', 'in', 'the', 'book', 'b', 'the'], ['in', 'the', 'red', 'b', 'the', 'tale'], ['the', 'red', 'book', 'the', 'tale', 'of'], ['red', 'book', 'b', 'tale', 'of', 'years'], ['book', 'b', 'the', 'of', 'years', 'chronology'], ['b', 'the', 'tale', 'years', 'chronology', 'of'], ['the', 'tale', 'of', 'chronology', 'of', 'the'], ['tale', 'of', 'years', 'of', 'the', 'westlands'], ['of', 'years', 'chronology', 'the', 'westlands', 'the'], ['years', 'chronology', 'of', 'westlands', 'the', 'second'], ['chronology', 'of', 'the', 'the', 'second', 'age'], ['of', 'the', 'westlands', 'second', 'age', 'the'], ['the', 'westlands', 'the', 'age', 'the', 'third'], ['westlands', 'the', 'second', 'the', 'third', 'age'], ['the', 'second', 'age', 'third', 'age', 'c'], ['second', 'age', 'the', 'age', 'c', 'family'], ['age', 'the', 'third', 'c', 'family', 'trees'], ['the', 'third', 'age', 'family', 'trees', 'd'], ['third', 'age', 'c', 'trees', 'd', 'calendars'], ['age', 'c', 'family', 'd', 'calendars', 'shire'], ['c', 'family', 'trees', 'calendars', 'shire', 'calendar'], ['family', 'trees', 'd', 'shire', 'calendar', 'for'], ['trees', 'd', 'calendars', 'calendar', 'for', 'use'], ['d', 'calendars', 'shire', 'for', 'use', 'in'], ['calendars', 'shire', 'calendar', 'use', 'in', 'all'], ['shire', 'calendar', 'for', 'in', 'all', 'years'], ['calendar', 'for', 'use', 'all', 'years', 'the'], ['for', 'use', 'in', 'years', 'the', 'calendars'], ['use', 'in', 'all', 'the', 'calendars', 'e'], ['in', 'all', 'years', 'calendars', 'e', 'writing'], ['all', 'years', 'the', 'e', 'writing', 'and'], ['years', 'the', 'calendars', 'writing', 'and', 'spelling'], ['the', 'calendars', 'e', 'and', 'spelling', 'i'], ['calendars', 'e', 'writing', 'spelling', 'i', 'pronunciation'], ['e', 'writing', 'and', 'i', 'pronunciation', 'of'], ['writing', 'and', 'spelling', 'pronunciation', 'of', 'words'], ['and', 'spelling', 'i', 'of', 'words', 'and'], ['spelling', 'i', 'pronunciation', 'words', 'and', 'names'], ['i', 'pronunciation', 'of', 'and', 'names', 'ii'], ['pronunciation', 'of', 'words', 'names', 'ii', 'writing'], ['of', 'words', 'and', 'ii', 'writing', 'f'], ['words', 'and', 'names', 'writing', 'f', 'i'], ['and', 'names', 'ii', 'f', 'i', 'the'], ['names', 'ii', 'writing', 'i', 'the', 'languages'], ['ii', 'writing', 'f', 'the', 'languages', 'and'], ['writing', 'f', 'i', 'languages', 'and', 'peoples'], ['f', 'i', 'the', 'and', 'peoples', 'of'], ['i', 'the', 'languages', 'peoples', 'of', 'the'], ['the', 'languages', 'and', 'of', 'the', 'third'], ['languages', 'and', 'peoples', 'the', 'third', 'age'], ['and', 'peoples', 'of', 'third', 'age', 'ii'], ['peoples', 'of', 'the', 'age', 'ii', 'on'], ['of', 'the', 'third', 'ii', 'on', 'translation'], ['the', 'third', 'age', 'on', 'translation', 'indexes'], ['third', 'age', 'ii', 'translation', 'indexes', 'i'], ['age', 'ii', 'on', 'indexes', 'i', 'songs'], ['ii', 'on', 'translation', 'i', 'songs', 'and'], ['on', 'translation', 'indexes', 'songs', 'and', 'verses'], ['translation', 'indexes', 'i', 'and', 'verses', 'ii'], ['indexes', 'i', 'songs', 'verses', 'ii', 'persons'], ['i', 'songs', 'and', 'ii', 'persons', '.'], ['songs', 'and', 'verses', 'persons', '.', 'beasts'], ['and', 'verses', 'ii', '.', 'beasts', 'and'], ['verses', 'ii', 'persons', 'beasts', 'and', 'monsters'], ['ii', 'persons', '.', 'and', 'monsters', 'iii'], ['persons', '.', 'beasts', 'monsters', 'iii', 'places'], ['.', 'beasts', 'and', 'iii', 'places', 'iv'], ['beasts', 'and', 'monsters', 'places', 'iv', 'things'], ['and', 'monsters', 'iii', 'iv', 'things', 'foreword'], ['monsters', 'iii', 'places', 'things', 'foreword', 'this'], ['iii', 'places', 'iv', 'foreword', 'this', 'tale'], ['places', 'iv', 'things', 'this', 'tale', 'grew'], ['iv', 'things', 'foreword', 'tale', 'grew', 'in'], ['things', 'foreword', 'this', 'grew', 'in', 'the'], ['foreword', 'this', 'tale', 'in', 'the', 'telling'], ['this', 'tale', 'grew', 'the', 'telling', '.'], ['tale', 'grew', 'in', 'telling', '.', 'until'], ['grew', 'in', 'the', '.', 'until', 'it'], ['in', 'the', 'telling', 'until', 'it', 'became'], ['the', 'telling', '.', 'it', 'became', 'a'], ['telling', '.', 'until', 'became', 'a', 'history'], ['.', 'until', 'it', 'a', 'history', 'of'], ['until', 'it', 'became', 'history', 'of', 'the'], ['it', 'became', 'a', 'of', 'the', 'great'], ['became', 'a', 'history', 'the', 'great', 'war'], ['a', 'history', 'of', 'great', 'war', 'of'], ['history', 'of', 'the', 'war', 'of', 'the'], ['of', 'the', 'great', 'of', 'the', 'ring'], ['the', 'great', 'war', 'the', 'ring', 'and'], ['great', 'war', 'of', 'ring', 'and', 'included'], ['war', 'of', 'the', 'and', 'included', 'many'], ['of', 'the', 'ring', 'included', 'many', 'glimpses'], ['the', 'ring', 'and', 'many', 'glimpses', 'of'], ['ring', 'and', 'included', 'glimpses', 'of', 'the'], ['and', 'included', 'many', 'of', 'the', 'yet'], ['included', 'many', 'glimpses', 'the', 'yet', 'more'], ['many', 'glimpses', 'of', 'yet', 'more', 'ancient'], ['glimpses', 'of', 'the', 'more', 'ancient', 'history'], ['of', 'the', 'yet', 'ancient', 'history', 'that'], ['the', 'yet', 'more', 'history', 'that', 'preceded'], ['yet', 'more', 'ancient', 'that', 'preceded', 'it'], ['more', 'ancient', 'history', 'preceded', 'it', '.'], ['ancient', 'history', 'that', 'it', '.', 'it'], ['history', 'that', 'preceded', '.', 'it', 'was'], ['that', 'preceded', 'it', 'it', 'was', 'begun'], ['preceded', 'it', '.', 'was', 'begun', 'soon'], ['it', '.', 'it', 'begun', 'soon', 'after'], ['.', 'it', 'was', 'soon', 'after', 'was'], ['it', 'was', 'begun', 'after', 'was', 'written'], ['was', 'begun', 'soon', 'was', 'written', 'and'], ['begun', 'soon', 'after', 'written', 'and', 'before'], ['soon', 'after', 'was', 'and', 'before', 'its'], ['after', 'was', 'written', 'before', 'its', 'publication'], ['was', 'written', 'and', 'its', 'publication', 'in'], ['written', 'and', 'before', 'publication', 'in', 'but'], ['and', 'before', 'its', 'in', 'but', 'i'], ['before', 'its', 'publication', 'but', 'i', 'did'], ['its', 'publication', 'in', 'i', 'did', 'not'], ['publication', 'in', 'but', 'did', 'not', 'go'], ['in', 'but', 'i', 'not', 'go', 'on'], ['but', 'i', 'did', 'go', 'on', 'with'], ['i', 'did', 'not', 'on', 'with', 'this'], ['did', 'not', 'go', 'with', 'this', 'sequel'], ['not', 'go', 'on', 'this', 'sequel', '.'], ['go', 'on', 'with', 'sequel', '.', 'for'], ['on', 'with', 'this', '.', 'for', 'i'], ['with', 'this', 'sequel', 'for', 'i', 'wished'], ['this', 'sequel', '.', 'i', 'wished', 'first'], ['sequel', '.', 'for', 'wished', 'first', 'to'], ['.', 'for', 'i', 'first', 'to', 'complete'], ['for', 'i', 'wished', 'to', 'complete', 'and'], ['i', 'wished', 'first', 'complete', 'and', 'set'], ['wished', 'first', 'to', 'and', 'set', 'in'], ['first', 'to', 'complete', 'set', 'in', 'order'], ['to', 'complete', 'and', 'in', 'order', 'the'], ['complete', 'and', 'set', 'order', 'the', 'mythology'], ['and', 'set', 'in', 'the', 'mythology', 'and'], ['set', 'in', 'order', 'mythology', 'and', 'legends'], ['in', 'order', 'the', 'and', 'legends', 'of'], ['order', 'the', 'mythology', 'legends', 'of', 'the'], ['the', 'mythology', 'and', 'of', 'the', 'elder'], ['mythology', 'and', 'legends', 'the', 'elder', 'days'], ['and', 'legends', 'of', 'elder', 'days', '.'], ['legends', 'of', 'the', 'days', '.', 'which'], ['of', 'the', 'elder', '.', 'which', 'had'], ['the', 'elder', 'days', 'which', 'had', 'then'], ['elder', 'days', '.', 'had', 'then', 'been'], ['days', '.', 'which', 'then', 'been', 'taking'], ['.', 'which', 'had', 'been', 'taking', 'shape'], ['which', 'had', 'then', 'taking', 'shape', 'for'], ['had', 'then', 'been', 'shape', 'for', 'some'], ['then', 'been', 'taking', 'for', 'some', 'years'], ['been', 'taking', 'shape', 'some', 'years', '.'], ['taking', 'shape', 'for', 'years', '.', 'i'], ['shape', 'for', 'some', '.', 'i', 'desired'], ['for', 'some', 'years', 'i', 'desired', 'to'], ['some', 'years', '.', 'desired', 'to', 'do'], ['years', '.', 'i', 'to', 'do', 'this'], ['.', 'i', 'desired', 'do', 'this', 'for'], ['i', 'desired', 'to', 'this', 'for', 'my'], ['desired', 'to', 'do', 'for', 'my', 'own'], ['to', 'do', 'this', 'my', 'own', 'satisfaction'], ['do', 'this', 'for', 'own', 'satisfaction', '.'], ['this', 'for', 'my', 'satisfaction', '.', 'and'], ['for', 'my', 'own', '.', 'and', 'i'], ['my', 'own', 'satisfaction', 'and', 'i', 'had'], ['own', 'satisfaction', '.', 'i', 'had', 'little'], ['satisfaction', '.', 'and', 'had', 'little', 'hope'], ['.', 'and', 'i', 'little', 'hope', 'that'], ['and', 'i', 'had', 'hope', 'that', 'other'], ['i', 'had', 'little', 'that', 'other', 'people'], ['had', 'little', 'hope', 'other', 'people', 'would'], ['little', 'hope', 'that', 'people', 'would', 'be'], ['hope', 'that', 'other', 'would', 'be', 'interested'], ['that', 'other', 'people', 'be', 'interested', 'in'], ['other', 'people', 'would', 'interested', 'in', 'this'], ['people', 'would', 'be', 'in', 'this', 'work'], ['would', 'be', 'interested', 'this', 'work', '.'], ['be', 'interested', 'in', 'work', '.', 'especially'], ['interested', 'in', 'this', '.', 'especially', 'since'], ['in', 'this', 'work', 'especially', 'since', 'it'], ['this', 'work', '.', 'since', 'it', 'was'], ['work', '.', 'especially', 'it', 'was', 'primarily'], ['.', 'especially', 'since', 'was', 'primarily', 'linguistic'], ['especially', 'since', 'it', 'primarily', 'linguistic', 'in'], ['since', 'it', 'was', 'linguistic', 'in', 'inspiration'], ['it', 'was', 'primarily', 'in', 'inspiration', 'and'], ['was', 'primarily', 'linguistic', 'inspiration', 'and', 'was'], ['primarily', 'linguistic', 'in', 'and', 'was', 'begun'], ['linguistic', 'in', 'inspiration', 'was', 'begun', 'in'], ['in', 'inspiration', 'and', 'begun', 'in', 'order'], ['inspiration', 'and', 'was', 'in', 'order', 'to'], ['and', 'was', 'begun', 'order', 'to', 'provide'], ['was', 'begun', 'in', 'to', 'provide', 'the'], ['begun', 'in', 'order', 'provide', 'the', 'necessary'], ['in', 'order', 'to', 'the', 'necessary', 'background'], ['order', 'to', 'provide', 'necessary', 'background', 'of'], ['to', 'provide', 'the', 'background', 'of', 'for'], ['provide', 'the', 'necessary', 'of', 'for', 'elvish'], ['the', 'necessary', 'background', 'for', 'elvish', 'tongues'], ['necessary', 'background', 'of', 'elvish', 'tongues', '.'], ['background', 'of', 'for', 'tongues', '.', 'when'], ['of', 'for', 'elvish', '.', 'when', 'those'], ['for', 'elvish', 'tongues', 'when', 'those', 'whose'], ['elvish', 'tongues', '.', 'those', 'whose', 'advice'], ['tongues', '.', 'when', 'whose', 'advice', 'and'], ['.', 'when', 'those', 'advice', 'and', 'opinion'], ['when', 'those', 'whose', 'and', 'opinion', 'i'], ['those', 'whose', 'advice', 'opinion', 'i', 'sought'], ['whose', 'advice', 'and', 'i', 'sought', 'corrected'], ['advice', 'and', 'opinion', 'sought', 'corrected', 'to'], ['and', 'opinion', 'i', 'corrected', 'to', 'i'], ['opinion', 'i', 'sought', 'to', 'i', 'went'], ['i', 'sought', 'corrected', 'i', 'went', 'back'], ['sought', 'corrected', 'to', 'went', 'back', 'to'], ['corrected', 'to', 'i', 'back', 'to', 'the'], ['to', 'i', 'went', 'to', 'the', 'sequel'], ['i', 'went', 'back', 'the', 'sequel', '.'], ['went', 'back', 'to', 'sequel', '.', 'encouraged'], ['back', 'to', 'the', '.', 'encouraged', 'by'], ['to', 'the', 'sequel', 'encouraged', 'by', 'requests'], ['the', 'sequel', '.', 'by', 'requests', 'from'], ['sequel', '.', 'encouraged', 'requests', 'from', 'readers'], ['.', 'encouraged', 'by', 'from', 'readers', 'for'], ['encouraged', 'by', 'requests', 'readers', 'for', 'more'], ['by', 'requests', 'from', 'for', 'more', 'information'], ['requests', 'from', 'readers', 'more', 'information', 'concerning'], ['from', 'readers', 'for', 'information', 'concerning', 'hobbits'], ['readers', 'for', 'more', 'concerning', 'hobbits', 'and'], ['for', 'more', 'information', 'hobbits', 'and', 'their'], ['more', 'information', 'concerning', 'and', 'their', 'adventures'], ['information', 'concerning', 'hobbits', 'their', 'adventures', '.'], ['concerning', 'hobbits', 'and', 'adventures', '.', 'but'], ['hobbits', 'and', 'their', '.', 'but', 'the'], ['and', 'their', 'adventures', 'but', 'the', 'story'], ['their', 'adventures', '.', 'the', 'story', 'was'], ['adventures', '.', 'but', 'story', 'was', 'drawn'], ['.', 'but', 'the', 'was', 'drawn', 'irresistibly'], ['but', 'the', 'story', 'drawn', 'irresistibly', 'towards'], ['the', 'story', 'was', 'irresistibly', 'towards', 'the'], ['story', 'was', 'drawn', 'towards', 'the', 'older'], ['was', 'drawn', 'irresistibly', 'the', 'older', 'world'], ['drawn', 'irresistibly', 'towards', 'older', 'world', '.'], ['irresistibly', 'towards', 'the', 'world', '.', 'and'], ['towards', 'the', 'older', '.', 'and', 'became'], ['the', 'older', 'world', 'and', 'became', 'an'], ['older', 'world', '.', 'became', 'an', 'account'], ['world', '.', 'and', 'an', 'account', '.'], ['.', 'and', 'became', 'account', '.', 'as'], ['and', 'became', 'an', '.', 'as', 'it'], ['became', 'an', 'account', 'as', 'it', 'were'], ['an', 'account', '.', 'it', 'were', '.'], ['account', '.', 'as', 'were', '.', 'of'], ['.', 'as', 'it', '.', 'of', 'its'], ['as', 'it', 'were', 'of', 'its', 'end'], ['it', 'were', '.', 'its', 'end', 'and'], ['were', '.', 'of', 'end', 'and', 'passing'], ['.', 'of', 'its', 'and', 'passing', 'away'], ['of', 'its', 'end', 'passing', 'away', 'before'], ['its', 'end', 'and', 'away', 'before', 'its'], ['end', 'and', 'passing', 'before', 'its', 'beginning'], ['and', 'passing', 'away', 'its', 'beginning', 'and'], ['passing', 'away', 'before', 'beginning', 'and', 'middle'], ['away', 'before', 'its', 'and', 'middle', 'had'], ['before', 'its', 'beginning', 'middle', 'had', 'been'], ['its', 'beginning', 'and', 'had', 'been', 'told'], ['beginning', 'and', 'middle', 'been', 'told', '.'], ['and', 'middle', 'had', 'told', '.', 'the'], ['middle', 'had', 'been', '.', 'the', 'process'], ['had', 'been', 'told', 'the', 'process', 'had'], ['been', 'told', '.', 'process', 'had', 'begun'], ['told', '.', 'the', 'had', 'begun', 'in'], ['.', 'the', 'process', 'begun', 'in', 'the'], ['the', 'process', 'had', 'in', 'the', 'writing'], ['process', 'had', 'begun', 'the', 'writing', 'of'], ['had', 'begun', 'in', 'writing', 'of', 'in'], ['begun', 'in', 'the', 'of', 'in', 'which'], ['in', 'the', 'writing', 'in', 'which', 'there'], ['the', 'writing', 'of', 'which', 'there', 'were'], ['writing', 'of', 'in', 'there', 'were', 'already'], ['of', 'in', 'which', 'were', 'already', 'some'], ['in', 'which', 'there', 'already', 'some', 'references'], ['which', 'there', 'were', 'some', 'references', 'to'], ['there', 'were', 'already', 'references', 'to', 'the'], ['were', 'already', 'some', 'to', 'the', 'older'], ['already', 'some', 'references', 'the', 'older', 'matter'], ['some', 'references', 'to', 'older', 'matter', 'elrond'], ['references', 'to', 'the', 'matter', 'elrond', '.'], ['to', 'the', 'older', 'elrond', '.', 'gondolin'], ['the', 'older', 'matter', '.', 'gondolin', '.'], ['older', 'matter', 'elrond', 'gondolin', '.', 'the'], ['matter', 'elrond', '.', '.', 'the', '.'], ['elrond', '.', 'gondolin', 'the', '.', 'and'], ['.', 'gondolin', '.', '.', 'and', 'the'], ['gondolin', '.', 'the', 'and', 'the', 'orcs'], ['.', 'the', '.', 'the', 'orcs', '.'], ['the', '.', 'and', 'orcs', '.', 'as'], ['.', 'and', 'the', '.', 'as', 'well'], ['and', 'the', 'orcs', 'as', 'well', 'as'], ['the', 'orcs', '.', 'well', 'as', 'glimpses'], ['orcs', '.', 'as', 'as', 'glimpses', 'that'], ['.', 'as', 'well', 'glimpses', 'that', 'had'], ['as', 'well', 'as', 'that', 'had', 'arisen'], ['well', 'as', 'glimpses', 'had', 'arisen', 'unbidden'], ['as', 'glimpses', 'that', 'arisen', 'unbidden', 'of'], ['glimpses', 'that', 'had', 'unbidden', 'of', 'things'], ['that', 'had', 'arisen', 'of', 'things', 'higher'], ['had', 'arisen', 'unbidden', 'things', 'higher', 'or'], ['arisen', 'unbidden', 'of', 'higher', 'or', 'deeper'], ['unbidden', 'of', 'things', 'or', 'deeper', 'or'], ['of', 'things', 'higher', 'deeper', 'or', 'darker'], ['things', 'higher', 'or', 'or', 'darker', 'than'], ['higher', 'or', 'deeper', 'darker', 'than', 'its'], ['or', 'deeper', 'or', 'than', 'its', 'surface'], ['deeper', 'or', 'darker', 'its', 'surface', 'durin'], ['or', 'darker', 'than', 'surface', 'durin', '.'], ['darker', 'than', 'its', 'durin', '.', 'moria'], ['than', 'its', 'surface', '.', 'moria', '.'], ['its', 'surface', 'durin', 'moria', '.', 'gandalf'], ['surface', 'durin', '.', '.', 'gandalf', '.'], ['durin', '.', 'moria', 'gandalf', '.', 'the'], ['.', 'moria', '.', '.', 'the', 'necromancer'], ['moria', '.', 'gandalf', 'the', 'necromancer', '.'], ['.', 'gandalf', '.', 'necromancer', '.', 'the'], ['gandalf', '.', 'the', '.', 'the', 'ring'], ['.', 'the', 'necromancer', 'the', 'ring', '.'], ['the', 'necromancer', '.', 'ring', '.', 'the'], ['necromancer', '.', 'the', '.', 'the', 'discovery'], ['.', 'the', 'ring', 'the', 'discovery', 'of'], ['the', 'ring', '.', 'discovery', 'of', 'the'], ['ring', '.', 'the', 'of', 'the', 'significance'], ['.', 'the', 'discovery', 'the', 'significance', 'of'], ['the', 'discovery', 'of', 'significance', 'of', 'these'], ['discovery', 'of', 'the', 'of', 'these', 'glimpses'], ['of', 'the', 'significance', 'these', 'glimpses', 'and'], ['the', 'significance', 'of', 'glimpses', 'and', 'of'], ['significance', 'of', 'these', 'and', 'of', 'their'], ['of', 'these', 'glimpses', 'of', 'their', 'relation'], ['these', 'glimpses', 'and', 'their', 'relation', 'to'], ['glimpses', 'and', 'of', 'relation', 'to', 'the'], ['and', 'of', 'their', 'to', 'the', 'ancient'], ['of', 'their', 'relation', 'the', 'ancient', 'histories'], ['their', 'relation', 'to', 'ancient', 'histories', 'revealed'], ['relation', 'to', 'the', 'histories', 'revealed', 'the'], ['to', 'the', 'ancient', 'revealed', 'the', 'third'], ['the', 'ancient', 'histories', 'the', 'third', 'age'], ['ancient', 'histories', 'revealed', 'third', 'age', 'and'], ['histories', 'revealed', 'the', 'age', 'and', 'its'], ['revealed', 'the', 'third', 'and', 'its', 'culmination'], ['the', 'third', 'age', 'its', 'culmination', 'in'], ['third', 'age', 'and', 'culmination', 'in', 'the'], ['age', 'and', 'its', 'in', 'the', 'war'], ['and', 'its', 'culmination', 'the', 'war', 'of'], ['its', 'culmination', 'in', 'war', 'of', 'the'], ['culmination', 'in', 'the', 'of', 'the', 'ring'], ['in', 'the', 'war', 'the', 'ring', '.'], ['the', 'war', 'of', 'ring', '.', 'those'], ['war', 'of', 'the', '.', 'those', 'who'], ['of', 'the', 'ring', 'those', 'who', 'had'], ['the', 'ring', '.', 'who', 'had', 'asked'], ['ring', '.', 'those', 'had', 'asked', 'for'], ['.', 'those', 'who', 'asked', 'for', 'more'], ['those', 'who', 'had', 'for', 'more', 'information'], ['who', 'had', 'asked', 'more', 'information', 'about'], ['had', 'asked', 'for', 'information', 'about', 'hobbits'], ['asked', 'for', 'more', 'about', 'hobbits', 'eventually'], ['for', 'more', 'information', 'hobbits', 'eventually', 'got'], ['more', 'information', 'about', 'eventually', 'got', 'it'], ['information', 'about', 'hobbits', 'got', 'it', '.'], ['about', 'hobbits', 'eventually', 'it', '.', 'but'], ['hobbits', 'eventually', 'got', '.', 'but', 'they'], ['eventually', 'got', 'it', 'but', 'they', 'had'], ['got', 'it', '.', 'they', 'had', 'to'], ['it', '.', 'but', 'had', 'to', 'wait'], ['.', 'but', 'they', 'to', 'wait', 'a'], ['but', 'they', 'had', 'wait', 'a', 'long'], ['they', 'had', 'to', 'a', 'long', 'time'], ['had', 'to', 'wait', 'long', 'time', '.'], ['to', 'wait', 'a', 'time', '.', 'for'], ['wait', 'a', 'long', '.', 'for', 'the'], ['a', 'long', 'time', 'for', 'the', 'composition'], ['long', 'time', '.', 'the', 'composition', 'of'], ['time', '.', 'for', 'composition', 'of', 'lord'], ['.', 'for', 'the', 'of', 'lord', 'of'], ['for', 'the', 'composition', 'lord', 'of', 'the'], ['the', 'composition', 'of', 'of', 'the', 'went'], ['composition', 'of', 'lord', 'the', 'went', 'on'], ['of', 'lord', 'of', 'went', 'on', 'at'], ['lord', 'of', 'the', 'on', 'at', 'intervals'], ['of', 'the', 'went', 'at', 'intervals', 'during'], ['the', 'went', 'on', 'intervals', 'during', 'the'], ['went', 'on', 'at', 'during', 'the', 'years'], ['on', 'at', 'intervals', 'the', 'years', 'to'], ['at', 'intervals', 'during', 'years', 'to', 'a'], ['intervals', 'during', 'the', 'to', 'a', 'period'], ['during', 'the', 'years', 'a', 'period', 'in'], ['the', 'years', 'to', 'period', 'in', 'which'], ['years', 'to', 'a', 'in', 'which', 'i'], ['to', 'a', 'period', 'which', 'i', 'had'], ['a', 'period', 'in', 'i', 'had', 'many'], ['period', 'in', 'which', 'had', 'many', 'duties'], ['in', 'which', 'i', 'many', 'duties', 'that'], ['which', 'i', 'had', 'duties', 'that', 'i'], ['i', 'had', 'many', 'that', 'i', 'did'], ['had', 'many', 'duties', 'i', 'did', 'not'], ['many', 'duties', 'that', 'did', 'not', 'neglect'], ['duties', 'that', 'i', 'not', 'neglect', '.'], ['that', 'i', 'did', 'neglect', '.', 'and'], ['i', 'did', 'not', '.', 'and', 'many'], ['did', 'not', 'neglect', 'and', 'many', 'other'], ['not', 'neglect', '.', 'many', 'other', 'interests'], ['neglect', '.', 'and', 'other', 'interests', 'as'], ['.', 'and', 'many', 'interests', 'as', 'a'], ['and', 'many', 'other', 'as', 'a', 'learner'], ['many', 'other', 'interests', 'a', 'learner', 'and'], ['other', 'interests', 'as', 'learner', 'and', 'teacher'], ['interests', 'as', 'a', 'and', 'teacher', 'that'], ['as', 'a', 'learner', 'teacher', 'that', 'often'], ['a', 'learner', 'and', 'that', 'often', 'absorbed'], ['learner', 'and', 'teacher', 'often', 'absorbed', 'me'], ['and', 'teacher', 'that', 'absorbed', 'me', '.'], ['teacher', 'that', 'often', 'me', '.', 'the'], ['that', 'often', 'absorbed', '.', 'the', 'delay'], ['often', 'absorbed', 'me', 'the', 'delay', 'was'], ['absorbed', 'me', '.', 'delay', 'was', '.'], ['me', '.', 'the', 'was', '.', 'of'], ['.', 'the', 'delay', '.', 'of', 'course'], ['the', 'delay', 'was', 'of', 'course', '.'], ['delay', 'was', '.', 'course', '.', 'also'], ['was', '.', 'of', '.', 'also', 'increased'], ['.', 'of', 'course', 'also', 'increased', 'by'], ['of', 'course', '.', 'increased', 'by', 'the'], ['course', '.', 'also', 'by', 'the', 'outbreak'], ['.', 'also', 'increased', 'the', 'outbreak', 'of'], ['also', 'increased', 'by', 'outbreak', 'of', 'war'], ['increased', 'by', 'the', 'of', 'war', 'in'], ['by', 'the', 'outbreak', 'war', 'in', 'by'], ['the', 'outbreak', 'of', 'in', 'by', 'the'], ['outbreak', 'of', 'war', 'by', 'the', 'end'], ['of', 'war', 'in', 'the', 'end', 'of'], ['war', 'in', 'by', 'end', 'of', 'which'], ['in', 'by', 'the', 'of', 'which', 'year'], ['by', 'the', 'end', 'which', 'year', 'the'], ['the', 'end', 'of', 'year', 'the', 'tale'], ['end', 'of', 'which', 'the', 'tale', 'had'], ['of', 'which', 'year', 'tale', 'had', 'not'], ['which', 'year', 'the', 'had', 'not', 'yet'], ['year', 'the', 'tale', 'not', 'yet', 'reached'], ['the', 'tale', 'had', 'yet', 'reached', 'the'], ['tale', 'had', 'not', 'reached', 'the', 'end'], ['had', 'not', 'yet', 'the', 'end', 'of'], ['not', 'yet', 'reached', 'end', 'of', 'book'], ['yet', 'reached', 'the', 'of', 'book', 'one'], ['reached', 'the', 'end', 'book', 'one', '.'], ['the', 'end', 'of', 'one', '.', 'in'], ['end', 'of', 'book', '.', 'in', 'spite'], ['of', 'book', 'one', 'in', 'spite', 'of'], ['book', 'one', '.', 'spite', 'of', 'the'], ['one', '.', 'in', 'of', 'the', 'darkness'], ['.', 'in', 'spite', 'the', 'darkness', 'of'], ['in', 'spite', 'of', 'darkness', 'of', 'the'], ['spite', 'of', 'the', 'of', 'the', 'next'], ['of', 'the', 'darkness', 'the', 'next', 'five'], ['the', 'darkness', 'of', 'next', 'five', 'years'], ['darkness', 'of', 'the', 'five', 'years', 'i'], ['of', 'the', 'next', 'years', 'i', 'found'], ['the', 'next', 'five', 'i', 'found', 'that'], ['next', 'five', 'years', 'found', 'that', 'the'], ['five', 'years', 'i', 'that', 'the', 'story'], ['years', 'i', 'found', 'the', 'story', 'could'], ['i', 'found', 'that', 'story', 'could', 'not'], ['found', 'that', 'the', 'could', 'not', 'now'], ['that', 'the', 'story', 'not', 'now', 'be'], ['the', 'story', 'could', 'now', 'be', 'wholly'], ['story', 'could', 'not', 'be', 'wholly', 'abandoned'], ['could', 'not', 'now', 'wholly', 'abandoned', '.'], ['not', 'now', 'be', 'abandoned', '.', 'and'], ['now', 'be', 'wholly', '.', 'and', 'i'], ['be', 'wholly', 'abandoned', 'and', 'i', 'plodded'], ['wholly', 'abandoned', '.', 'i', 'plodded', 'on'], ['abandoned', '.', 'and', 'plodded', 'on', '.'], ['.', 'and', 'i', 'on', '.', 'mostly'], ['and', 'i', 'plodded', '.', 'mostly', 'by'], ['i', 'plodded', 'on', 'mostly', 'by', 'night'], ['plodded', 'on', '.', 'by', 'night', '.'], ['on', '.', 'mostly', 'night', '.', 'till'], ['.', 'mostly', 'by', '.', 'till', 'i'], ['mostly', 'by', 'night', 'till', 'i', 'stood'], ['by', 'night', '.', 'i', 'stood', 'by'], ['night', '.', 'till', 'stood', 'by', 'balin'], ['.', 'till', 'i', 'by', 'balin', 'tomb'], ['till', 'i', 'stood', 'balin', 'tomb', 'in'], ['i', 'stood', 'by', 'tomb', 'in', 'moria'], ['stood', 'by', 'balin', 'in', 'moria', '.'], ['by', 'balin', 'tomb', 'moria', '.', 'there'], ['balin', 'tomb', 'in', '.', 'there', 'i'], ['tomb', 'in', 'moria', 'there', 'i', 'halted'], ['in', 'moria', '.', 'i', 'halted', 'for'], ['moria', '.', 'there', 'halted', 'for', 'a'], ['.', 'there', 'i', 'for', 'a', 'long'], ['there', 'i', 'halted', 'a', 'long', 'while'], ['i', 'halted', 'for', 'long', 'while', '.'], ['halted', 'for', 'a', 'while', '.', 'it'], ['for', 'a', 'long', '.', 'it', 'was'], ['a', 'long', 'while', 'it', 'was', 'almost'], ['long', 'while', '.', 'was', 'almost', 'a'], ['while', '.', 'it', 'almost', 'a', 'year'], ['.', 'it', 'was', 'a', 'year', 'later'], ['it', 'was', 'almost', 'year', 'later', 'when'], ['was', 'almost', 'a', 'later', 'when', 'i'], ['almost', 'a', 'year', 'when', 'i', 'went'], ['a', 'year', 'later', 'i', 'went', 'on'], ['year', 'later', 'when', 'went', 'on', 'and'], ['later', 'when', 'i', 'on', 'and', 'so'], ['when', 'i', 'went', 'and', 'so', 'came'], ['i', 'went', 'on', 'so', 'came', 'to'], ['went', 'on', 'and', 'came', 'to', 'lothlórien'], ['on', 'and', 'so', 'to', 'lothlórien', 'and'], ['and', 'so', 'came', 'lothlórien', 'and', 'the'], ['so', 'came', 'to', 'and', 'the', 'great'], ['came', 'to', 'lothlórien', 'the', 'great', 'river'], ['to', 'lothlórien', 'and', 'great', 'river', 'late'], ['lothlórien', 'and', 'the', 'river', 'late', 'in'], ['and', 'the', 'great', 'late', 'in', 'in'], ['the', 'great', 'river', 'in', 'in', 'the'], ['great', 'river', 'late', 'in', 'the', 'next'], ['river', 'late', 'in', 'the', 'next', 'year'], ['late', 'in', 'in', 'next', 'year', 'i'], ['in', 'in', 'the', 'year', 'i', 'wrote'], ['in', 'the', 'next', 'i', 'wrote', 'the'], ['the', 'next', 'year', 'wrote', 'the', 'first'], ['next', 'year', 'i', 'the', 'first', 'drafts'], ['year', 'i', 'wrote', 'first', 'drafts', 'of'], ['i', 'wrote', 'the', 'drafts', 'of', 'the'], ['wrote', 'the', 'first', 'of', 'the', 'matter'], ['the', 'first', 'drafts', 'the', 'matter', 'that'], ['first', 'drafts', 'of', 'matter', 'that', 'now'], ['drafts', 'of', 'the', 'that', 'now', 'stands'], ['of', 'the', 'matter', 'now', 'stands', 'as'], ['the', 'matter', 'that', 'stands', 'as', 'book'], ['matter', 'that', 'now', 'as', 'book', 'three'], ['that', 'now', 'stands', 'book', 'three', '.'], ['now', 'stands', 'as', 'three', '.', 'and'], ['stands', 'as', 'book', '.', 'and', 'the'], ['as', 'book', 'three', 'and', 'the', 'beginnings'], ['book', 'three', '.', 'the', 'beginnings', 'of'], ['three', '.', 'and', 'beginnings', 'of', 'chapters'], ['.', 'and', 'the', 'of', 'chapters', 'i'], ['and', 'the', 'beginnings', 'chapters', 'i', 'and'], ['the', 'beginnings', 'of', 'i', 'and', 'iii'], ['beginnings', 'of', 'chapters', 'and', 'iii', 'of'], ['of', 'chapters', 'i', 'iii', 'of', 'book'], ['chapters', 'i', 'and', 'of', 'book', 'five'], ['i', 'and', 'iii', 'book', 'five', '.'], ['and', 'iii', 'of', 'five', '.', 'and'], ['iii', 'of', 'book', '.', 'and', 'there'], ['of', 'book', 'five', 'and', 'there', 'as'], ['book', 'five', '.', 'there', 'as', 'the'], ['five', '.', 'and', 'as', 'the', 'beacons'], ['.', 'and', 'there', 'the', 'beacons', 'flared'], ['and', 'there', 'as', 'beacons', 'flared', 'in'], ['there', 'as', 'the', 'flared', 'in', 'anórien'], ['as', 'the', 'beacons', 'in', 'anórien', 'and'], ['the', 'beacons', 'flared', 'anórien', 'and', 'théoden'], ['beacons', 'flared', 'in', 'and', 'théoden', 'came'], ['flared', 'in', 'anórien', 'théoden', 'came', 'to'], ['in', 'anórien', 'and', 'came', 'to', 'harrowdale'], ['anórien', 'and', 'théoden', 'to', 'harrowdale', 'i'], ['and', 'théoden', 'came', 'harrowdale', 'i', 'stopped'], ['théoden', 'came', 'to', 'i', 'stopped', '.'], ['came', 'to', 'harrowdale', 'stopped', '.', 'foresight'], ['to', 'harrowdale', 'i', '.', 'foresight', 'had'], ['harrowdale', 'i', 'stopped', 'foresight', 'had', 'failed'], ['i', 'stopped', '.', 'had', 'failed', 'and'], ['stopped', '.', 'foresight', 'failed', 'and', 'there'], ['.', 'foresight', 'had', 'and', 'there', 'was'], ['foresight', 'had', 'failed', 'there', 'was', 'no'], ['had', 'failed', 'and', 'was', 'no', 'time'], ['failed', 'and', 'there', 'no', 'time', 'for'], ['and', 'there', 'was', 'time', 'for', 'thought'], ['there', 'was', 'no', 'for', 'thought', '.'], ['was', 'no', 'time', 'thought', '.', 'it'], ['no', 'time', 'for', '.', 'it', 'was'], ['time', 'for', 'thought', 'it', 'was', 'during'], ['for', 'thought', '.', 'was', 'during', 'that'], ['thought', '.', 'it', 'during', 'that', '.'], ['.', 'it', 'was', 'that', '.', 'leaving'], ['it', 'was', 'during', '.', 'leaving', 'the'], ['was', 'during', 'that', 'leaving', 'the', 'loose'], ['during', 'that', '.', 'the', 'loose', 'ends'], ['that', '.', 'leaving', 'loose', 'ends', 'and'], ['.', 'leaving', 'the', 'ends', 'and', 'perplexities'], ['leaving', 'the', 'loose', 'and', 'perplexities', 'of'], ['the', 'loose', 'ends', 'perplexities', 'of', 'a'], ['loose', 'ends', 'and', 'of', 'a', 'war'], ['ends', 'and', 'perplexities', 'a', 'war', 'which'], ['and', 'perplexities', 'of', 'war', 'which', 'it'], ['perplexities', 'of', 'a', 'which', 'it', 'was'], ['of', 'a', 'war', 'it', 'was', 'my'], ['a', 'war', 'which', 'was', 'my', 'task'], ['war', 'which', 'it', 'my', 'task', 'to'], ['which', 'it', 'was', 'task', 'to', 'conduct'], ['it', 'was', 'my', 'to', 'conduct', '.'], ['was', 'my', 'task', 'conduct', '.', 'or'], ['my', 'task', 'to', '.', 'or', 'at'], ['task', 'to', 'conduct', 'or', 'at', 'least'], ['to', 'conduct', '.', 'at', 'least', 'to'], ['conduct', '.', 'or', 'least', 'to', 'report'], ['.', 'or', 'at', 'to', 'report', '.'], ['or', 'at', 'least', 'report', '.', 'forced'], ['at', 'least', 'to', '.', 'forced', 'myself'], ['least', 'to', 'report', 'forced', 'myself', 'to'], ['to', 'report', '.', 'myself', 'to', 'tackle'], ['report', '.', 'forced', 'to', 'tackle', 'the'], ['.', 'forced', 'myself', 'tackle', 'the', 'journey'], ['forced', 'myself', 'to', 'the', 'journey', 'of'], ['myself', 'to', 'tackle', 'journey', 'of', 'frodo'], ['to', 'tackle', 'the', 'of', 'frodo', 'to'], ['tackle', 'the', 'journey', 'frodo', 'to', 'mordor'], ['the', 'journey', 'of', 'to', 'mordor', '.'], ['journey', 'of', 'frodo', 'mordor', '.', 'these'], ['of', 'frodo', 'to', '.', 'these', 'chapters'], ['frodo', 'to', 'mordor', 'these', 'chapters', '.'], ['to', 'mordor', '.', 'chapters', '.', 'eventually'], ['mordor', '.', 'these', '.', 'eventually', 'to'], ['.', 'these', 'chapters', 'eventually', 'to', 'become'], ['these', 'chapters', '.', 'to', 'become', 'book'], ['chapters', '.', 'eventually', 'become', 'book', 'four'], ['.', 'eventually', 'to', 'book', 'four', '.'], ['eventually', 'to', 'become', 'four', '.', 'were'], ['to', 'become', 'book', '.', 'were', 'written'], ['become', 'book', 'four', 'were', 'written', 'and'], ['book', 'four', '.', 'written', 'and', 'sent'], ['four', '.', 'were', 'and', 'sent', 'out'], ['.', 'were', 'written', 'sent', 'out', 'as'], ['were', 'written', 'and', 'out', 'as', 'a'], ['written', 'and', 'sent', 'as', 'a', 'serial'], ['and', 'sent', 'out', 'a', 'serial', 'to'], ['sent', 'out', 'as', 'serial', 'to', 'my'], ['out', 'as', 'a', 'to', 'my', 'son'], ['as', 'a', 'serial', 'my', 'son', '.'], ['a', 'serial', 'to', 'son', '.', 'christopher'], ['serial', 'to', 'my', '.', 'christopher', '.'], ['to', 'my', 'son', 'christopher', '.', 'then'], ['my', 'son', '.', '.', 'then', 'in'], ['son', '.', 'christopher', 'then', 'in', 'south'], ['.', 'christopher', '.', 'in', 'south', 'africa'], ['christopher', '.', 'then', 'south', 'africa', 'with'], ['.', 'then', 'in', 'africa', 'with', 'the'], ['then', 'in', 'south', 'with', 'the', 'raf'], ['in', 'south', 'africa', 'the', 'raf', '.'], ['south', 'africa', 'with', 'raf', '.', 'nonetheless'], ['africa', 'with', 'the', '.', 'nonetheless', 'it'], ['with', 'the', 'raf', 'nonetheless', 'it', 'took'], ['the', 'raf', '.', 'it', 'took', 'another'], ['raf', '.', 'nonetheless', 'took', 'another', 'five'], ['.', 'nonetheless', 'it', 'another', 'five', 'years'], ['nonetheless', 'it', 'took', 'five', 'years', 'before'], ['it', 'took', 'another', 'years', 'before', 'the'], ['took', 'another', 'five', 'before', 'the', 'tale'], ['another', 'five', 'years', 'the', 'tale', 'was'], ['five', 'years', 'before', 'tale', 'was', 'brought'], ['years', 'before', 'the', 'was', 'brought', 'to'], ['before', 'the', 'tale', 'brought', 'to', 'its'], ['the', 'tale', 'was', 'to', 'its', 'present'], ['tale', 'was', 'brought', 'its', 'present', 'end'], ['was', 'brought', 'to', 'present', 'end', '.'], ['brought', 'to', 'its', 'end', '.', 'in'], ['to', 'its', 'present', '.', 'in', 'that'], ['its', 'present', 'end', 'in', 'that', 'time'], ['present', 'end', '.', 'that', 'time', 'i'], ['end', '.', 'in', 'time', 'i', 'changed'], ['.', 'in', 'that', 'i', 'changed', 'my'], ['in', 'that', 'time', 'changed', 'my', 'house'], ['that', 'time', 'i', 'my', 'house', '.'], ['time', 'i', 'changed', 'house', '.', 'my'], ['i', 'changed', 'my', '.', 'my', 'chair'], ['changed', 'my', 'house', 'my', 'chair', '.'], ['my', 'house', '.', 'chair', '.', 'and'], ['house', '.', 'my', '.', 'and', 'my'], ['.', 'my', 'chair', 'and', 'my', 'college'], ['my', 'chair', '.', 'my', 'college', '.'], ['chair', '.', 'and', 'college', '.', 'and'], ['.', 'and', 'my', '.', 'and', 'the'], ['and', 'my', 'college', 'and', 'the', 'days'], ['my', 'college', '.', 'the', 'days', 'though'], ['college', '.', 'and', 'days', 'though', 'less'], ['.', 'and', 'the', 'though', 'less', 'dark'], ['and', 'the', 'days', 'less', 'dark', 'were'], ['the', 'days', 'though', 'dark', 'were', 'no'], ['days', 'though', 'less', 'were', 'no', 'less'], ['though', 'less', 'dark', 'no', 'less', 'laborious'], ['less', 'dark', 'were', 'less', 'laborious', '.'], ['dark', 'were', 'no', 'laborious', '.', 'then'], ['were', 'no', 'less', '.', 'then', 'when'], ['no', 'less', 'laborious', 'then', 'when', 'the'], ['less', 'laborious', '.', 'when', 'the', 'had'], ['laborious', '.', 'then', 'the', 'had', 'at'], ['.', 'then', 'when', 'had', 'at', 'last'], ['then', 'when', 'the', 'at', 'last', 'been'], ['when', 'the', 'had', 'last', 'been', 'reached'], ['the', 'had', 'at', 'been', 'reached', 'the'], ['had', 'at', 'last', 'reached', 'the', 'whole'], ['at', 'last', 'been', 'the', 'whole', 'story'], ['last', 'been', 'reached', 'whole', 'story', 'had'], ['been', 'reached', 'the', 'story', 'had', 'to'], ['reached', 'the', 'whole', 'had', 'to', 'be'], ['the', 'whole', 'story', 'to', 'be', 'revised'], ['whole', 'story', 'had', 'be', 'revised', '.'], ['story', 'had', 'to', 'revised', '.', 'and'], ['had', 'to', 'be', '.', 'and', 'indeed'], ['to', 'be', 'revised', 'and', 'indeed', 'largely'], ['be', 'revised', '.', 'indeed', 'largely', 'backwards'], ['revised', '.', 'and', 'largely', 'backwards', '.'], ['.', 'and', 'indeed', 'backwards', '.', 'and'], ['and', 'indeed', 'largely', '.', 'and', 'it'], ['indeed', 'largely', 'backwards', 'and', 'it', 'had'], ['largely', 'backwards', '.', 'it', 'had', 'to'], ['backwards', '.', 'and', 'had', 'to', 'be'], ['.', 'and', 'it', 'to', 'be', 'typed'], ['and', 'it', 'had', 'be', 'typed', '.'], ['it', 'had', 'to', 'typed', '.', 'and'], ['had', 'to', 'be', '.', 'and', 'by'], ['to', 'be', 'typed', 'and', 'by', 'me'], ['be', 'typed', '.', 'by', 'me', '.'], ['typed', '.', 'and', 'me', '.', 'the'], ['.', 'and', 'by', '.', 'the', 'cost'], ['and', 'by', 'me', 'the', 'cost', 'of'], ['by', 'me', '.', 'cost', 'of', 'professional'], ['me', '.', 'the', 'of', 'professional', 'typing'], ['.', 'the', 'cost', 'professional', 'typing', 'by'], ['the', 'cost', 'of', 'typing', 'by', 'the'], ['cost', 'of', 'professional', 'by', 'the', 'was'], ['of', 'professional', 'typing', 'the', 'was', 'beyond'], ['professional', 'typing', 'by', 'was', 'beyond', 'my'], ['typing', 'by', 'the', 'beyond', 'my', 'means'], ['by', 'the', 'was', 'my', 'means', '.'], ['the', 'was', 'beyond', 'means', '.', 'lord'], ['was', 'beyond', 'my', '.', 'lord', 'of'], ['beyond', 'my', 'means', 'lord', 'of', 'the'], ['my', 'means', '.', 'of', 'the', 'has'], ['means', '.', 'lord', 'the', 'has', 'been'], ['.', 'lord', 'of', 'has', 'been', 'read'], ['lord', 'of', 'the', 'been', 'read', 'by'], ['of', 'the', 'has', 'read', 'by', 'many'], ['the', 'has', 'been', 'by', 'many', 'people'], ['has', 'been', 'read', 'many', 'people', 'since'], ['been', 'read', 'by', 'people', 'since', 'it'], ['read', 'by', 'many', 'since', 'it', 'finally'], ['by', 'many', 'people', 'it', 'finally', 'appeared'], ['many', 'people', 'since', 'finally', 'appeared', 'in'], ['people', 'since', 'it', 'appeared', 'in', 'print'], ['since', 'it', 'finally', 'in', 'print', '.'], ['it', 'finally', 'appeared', 'print', '.', 'and'], ['finally', 'appeared', 'in', '.', 'and', 'i'], ['appeared', 'in', 'print', 'and', 'i', 'should'], ['in', 'print', '.', 'i', 'should', 'like'], ['print', '.', 'and', 'should', 'like', 'to'], ['.', 'and', 'i', 'like', 'to', 'say'], ['and', 'i', 'should', 'to', 'say', 'something'], ['i', 'should', 'like', 'say', 'something', 'here'], ['should', 'like', 'to', 'something', 'here', 'with'], ['like', 'to', 'say', 'here', 'with', 'reference'], ['to', 'say', 'something', 'with', 'reference', 'to'], ['say', 'something', 'here', 'reference', 'to', 'the'], ['something', 'here', 'with', 'to', 'the', 'many'], ['here', 'with', 'reference', 'the', 'many', 'opinions'], ['with', 'reference', 'to', 'many', 'opinions', 'or'], ['reference', 'to', 'the', 'opinions', 'or', 'guesses'], ['to', 'the', 'many', 'or', 'guesses', 'that'], ['the', 'many', 'opinions', 'guesses', 'that', 'i'], ['many', 'opinions', 'or', 'that', 'i', 'have'], ['opinions', 'or', 'guesses', 'i', 'have', 'received'], ['or', 'guesses', 'that', 'have', 'received', 'or'], ['guesses', 'that', 'i', 'received', 'or', 'have'], ['that', 'i', 'have', 'or', 'have', 'read'], ['i', 'have', 'received', 'have', 'read', 'concerning'], ['have', 'received', 'or', 'read', 'concerning', 'the'], ['received', 'or', 'have', 'concerning', 'the', 'motives'], ['or', 'have', 'read', 'the', 'motives', 'and'], ['have', 'read', 'concerning', 'motives', 'and', 'meaning'], ['read', 'concerning', 'the', 'and', 'meaning', 'of'], ['concerning', 'the', 'motives', 'meaning', 'of', 'the'], ['the', 'motives', 'and', 'of', 'the', 'tale'], ['motives', 'and', 'meaning', 'the', 'tale', '.'], ['and', 'meaning', 'of', 'tale', '.', 'the'], ['meaning', 'of', 'the', '.', 'the', 'prime'], ['of', 'the', 'tale', 'the', 'prime', 'motive'], ['the', 'tale', '.', 'prime', 'motive', 'was'], ['tale', '.', 'the', 'motive', 'was', 'the'], ['.', 'the', 'prime', 'was', 'the', 'desire'], ['the', 'prime', 'motive', 'the', 'desire', 'of'], ['prime', 'motive', 'was', 'desire', 'of', 'a'], ['motive', 'was', 'the', 'of', 'a', 'to'], ['was', 'the', 'desire', 'a', 'to', 'try'], ['the', 'desire', 'of', 'to', 'try', 'his'], ['desire', 'of', 'a', 'try', 'his', 'hand'], ['of', 'a', 'to', 'his', 'hand', 'at'], ['a', 'to', 'try', 'hand', 'at', 'a'], ['to', 'try', 'his', 'at', 'a', 'really'], ['try', 'his', 'hand', 'a', 'really', 'long'], ['his', 'hand', 'at', 'really', 'long', 'story'], ['hand', 'at', 'a', 'long', 'story', 'that'], ['at', 'a', 'really', 'story', 'that', 'would'], ['a', 'really', 'long', 'that', 'would', 'hold'], ['really', 'long', 'story', 'would', 'hold', 'the'], ['long', 'story', 'that', 'hold', 'the', 'attention'], ['story', 'that', 'would', 'the', 'attention', 'of'], ['that', 'would', 'hold', 'attention', 'of', 'readers'], ['would', 'hold', 'the', 'of', 'readers', '.'], ['hold', 'the', 'attention', 'readers', '.', 'amuse'], ['the', 'attention', 'of', '.', 'amuse', 'them'], ['attention', 'of', 'readers', 'amuse', 'them', '.'], ['of', 'readers', '.', 'them', '.', 'delight'], ['readers', '.', 'amuse', '.', 'delight', 'them'], ['.', 'amuse', 'them', 'delight', 'them', '.'], ['amuse', 'them', '.', 'them', '.', 'and'], ['them', '.', 'delight', '.', 'and', 'at'], ['.', 'delight', 'them', 'and', 'at', 'times'], ['delight', 'them', '.', 'at', 'times', 'maybe'], ['them', '.', 'and', 'times', 'maybe', 'excite'], ['.', 'and', 'at', 'maybe', 'excite', 'them'], ['and', 'at', 'times', 'excite', 'them', 'or'], ['at', 'times', 'maybe', 'them', 'or', 'deeply'], ['times', 'maybe', 'excite', 'or', 'deeply', 'move'], ['maybe', 'excite', 'them', 'deeply', 'move', 'them'], ['excite', 'them', 'or', 'move', 'them', '.'], ['them', 'or', 'deeply', 'them', '.', 'as'], ['or', 'deeply', 'move', '.', 'as', 'a'], ['deeply', 'move', 'them', 'as', 'a', 'guide'], ['move', 'them', '.', 'a', 'guide', 'i'], ['them', '.', 'as', 'guide', 'i', 'had'], ['.', 'as', 'a', 'i', 'had', 'only'], ['as', 'a', 'guide', 'had', 'only', 'my'], ['a', 'guide', 'i', 'only', 'my', 'own'], ['guide', 'i', 'had', 'my', 'own', 'feelings'], ['i', 'had', 'only', 'own', 'feelings', 'for'], ['had', 'only', 'my', 'feelings', 'for', 'what'], ['only', 'my', 'own', 'for', 'what', 'is'], ['my', 'own', 'feelings', 'what', 'is', 'appealing'], ['own', 'feelings', 'for', 'is', 'appealing', 'or'], ['feelings', 'for', 'what', 'appealing', 'or', 'moving'], ['for', 'what', 'is', 'or', 'moving', '.'], ['what', 'is', 'appealing', 'moving', '.', 'and'], ['is', 'appealing', 'or', '.', 'and', 'for'], ['appealing', 'or', 'moving', 'and', 'for', 'many'], ['or', 'moving', '.', 'for', 'many', 'the'], ['moving', '.', 'and', 'many', 'the', 'guide'], ['.', 'and', 'for', 'the', 'guide', 'was'], ['and', 'for', 'many', 'guide', 'was', 'inevitably'], ['for', 'many', 'the', 'was', 'inevitably', 'often'], ['many', 'the', 'guide', 'inevitably', 'often', 'at'], ['the', 'guide', 'was', 'often', 'at', 'fault'], ['guide', 'was', 'inevitably', 'at', 'fault', '.'], ['was', 'inevitably', 'often', 'fault', '.', 'some'], ['inevitably', 'often', 'at', '.', 'some', 'who'], ['often', 'at', 'fault', 'some', 'who', 'have'], ['at', 'fault', '.', 'who', 'have', 'read'], ['fault', '.', 'some', 'have', 'read', 'the'], ['.', 'some', 'who', 'read', 'the', 'book'], ['some', 'who', 'have', 'the', 'book', '.'], ['who', 'have', 'read', 'book', '.', 'or'], ['have', 'read', 'the', '.', 'or', 'at'], ['read', 'the', 'book', 'or', 'at', 'any'], ['the', 'book', '.', 'at', 'any', 'rate'], ['book', '.', 'or', 'any', 'rate', 'have'], ['.', 'or', 'at', 'rate', 'have', 'reviewed'], ['or', 'at', 'any', 'have', 'reviewed', 'it'], ['at', 'any', 'rate', 'reviewed', 'it', '.'], ['any', 'rate', 'have', 'it', '.', 'have'], ['rate', 'have', 'reviewed', '.', 'have', 'found'], ['have', 'reviewed', 'it', 'have', 'found', 'it'], ['reviewed', 'it', '.', 'found', 'it', 'boring'], ['it', '.', 'have', 'it', 'boring', '.'], ['.', 'have', 'found', 'boring', '.', 'absurd'], ['have', 'found', 'it', '.', 'absurd', '.'], ['found', 'it', 'boring', 'absurd', '.', 'or'], ['it', 'boring', '.', '.', 'or', 'contemptible'], ['boring', '.', 'absurd', 'or', 'contemptible', '.'], ['.', 'absurd', '.', 'contemptible', '.', 'and'], ['absurd', '.', 'or', '.', 'and', 'i'], ['.', 'or', 'contemptible', 'and', 'i', 'have'], ['or', 'contemptible', '.', 'i', 'have', 'no'], ['contemptible', '.', 'and', 'have', 'no', 'cause'], ['.', 'and', 'i', 'no', 'cause', 'to'], ['and', 'i', 'have', 'cause', 'to', 'complain'], ['i', 'have', 'no', 'to', 'complain', '.'], ['have', 'no', 'cause', 'complain', '.', 'since'], ['no', 'cause', 'to', '.', 'since', 'i'], ['cause', 'to', 'complain', 'since', 'i', 'have'], ['to', 'complain', '.', 'i', 'have', 'similar'], ['complain', '.', 'since', 'have', 'similar', 'opinions'], ['.', 'since', 'i', 'similar', 'opinions', 'of'], ['since', 'i', 'have', 'opinions', 'of', 'their'], ['i', 'have', 'similar', 'of', 'their', 'works'], ['have', 'similar', 'opinions', 'their', 'works', '.'], ['similar', 'opinions', 'of', 'works', '.', 'or'], ['opinions', 'of', 'their', '.', 'or', 'of'], ['of', 'their', 'works', 'or', 'of', 'the'], ['their', 'works', '.', 'of', 'the', 'kinds'], ['works', '.', 'or', 'the', 'kinds', 'of'], ['.', 'or', 'of', 'kinds', 'of', 'writing'], ['or', 'of', 'the', 'of', 'writing', 'that'], ['of', 'the', 'kinds', 'writing', 'that', 'they'], ['the', 'kinds', 'of', 'that', 'they', 'evidently'], ['kinds', 'of', 'writing', 'they', 'evidently', 'prefer'], ['of', 'writing', 'that', 'evidently', 'prefer', '.'], ['writing', 'that', 'they', 'prefer', '.', 'but'], ['that', 'they', 'evidently', '.', 'but', 'even'], ['they', 'evidently', 'prefer', 'but', 'even', 'from'], ['evidently', 'prefer', '.', 'even', 'from', 'the'], ['prefer', '.', 'but', 'from', 'the', 'points'], ['.', 'but', 'even', 'the', 'points', 'of'], ['but', 'even', 'from', 'points', 'of', 'view'], ['even', 'from', 'the', 'of', 'view', 'of'], ['from', 'the', 'points', 'view', 'of', 'many'], ['the', 'points', 'of', 'of', 'many', 'who'], ['points', 'of', 'view', 'many', 'who', 'have'], ['of', 'view', 'of', 'who', 'have', 'enjoyed'], ['view', 'of', 'many', 'have', 'enjoyed', 'my'], ['of', 'many', 'who', 'enjoyed', 'my', 'story'], ['many', 'who', 'have', 'my', 'story', 'there'], ['who', 'have', 'enjoyed', 'story', 'there', 'is'], ['have', 'enjoyed', 'my', 'there', 'is', 'much'], ['enjoyed', 'my', 'story', 'is', 'much', 'that'], ['my', 'story', 'there', 'much', 'that', 'fails'], ['story', 'there', 'is', 'that', 'fails', 'to'], ['there', 'is', 'much', 'fails', 'to', 'please'], ['is', 'much', 'that', 'to', 'please', '.'], ['much', 'that', 'fails', 'please', '.', 'it'], ['that', 'fails', 'to', '.', 'it', 'is'], ['fails', 'to', 'please', 'it', 'is', 'perhaps'], ['to', 'please', '.', 'is', 'perhaps', 'not'], ['please', '.', 'it', 'perhaps', 'not', 'possible'], ['.', 'it', 'is', 'not', 'possible', 'in'], ['it', 'is', 'perhaps', 'possible', 'in', 'a'], ['is', 'perhaps', 'not', 'in', 'a', 'long'], ['perhaps', 'not', 'possible', 'a', 'long', 'tale'], ['not', 'possible', 'in', 'long', 'tale', 'to'], ['possible', 'in', 'a', 'tale', 'to', 'please'], ['in', 'a', 'long', 'to', 'please', 'everybody'], ['a', 'long', 'tale', 'please', 'everybody', 'at'], ['long', 'tale', 'to', 'everybody', 'at', 'all'], ['tale', 'to', 'please', 'at', 'all', 'points'], ['to', 'please', 'everybody', 'all', 'points', '.'], ['please', 'everybody', 'at', 'points', '.', 'nor'], ['everybody', 'at', 'all', '.', 'nor', 'to'], ['at', 'all', 'points', 'nor', 'to', 'displease'], ['all', 'points', '.', 'to', 'displease', 'everybody'], ['points', '.', 'nor', 'displease', 'everybody', 'at'], ['.', 'nor', 'to', 'everybody', 'at', 'the'], ['nor', 'to', 'displease', 'at', 'the', 'same'], ['to', 'displease', 'everybody', 'the', 'same', 'points'], ['displease', 'everybody', 'at', 'same', 'points', '.'], ['everybody', 'at', 'the', 'points', '.', 'for'], ['at', 'the', 'same', '.', 'for', 'i'], ['the', 'same', 'points', 'for', 'i', 'find'], ['same', 'points', '.', 'i', 'find', 'from'], ['points', '.', 'for', 'find', 'from', 'the'], ['.', 'for', 'i', 'from', 'the', 'letters'], ['for', 'i', 'find', 'the', 'letters', 'that'], ['i', 'find', 'from', 'letters', 'that', 'i'], ['find', 'from', 'the', 'that', 'i', 'have'], ['from', 'the', 'letters', 'i', 'have', 'received'], ['the', 'letters', 'that', 'have', 'received', 'that'], ['letters', 'that', 'i', 'received', 'that', 'the'], ['that', 'i', 'have', 'that', 'the', 'passages'], ['i', 'have', 'received', 'the', 'passages', 'or'], ['have', 'received', 'that', 'passages', 'or', 'chapters'], ['received', 'that', 'the', 'or', 'chapters', 'that'], ['that', 'the', 'passages', 'chapters', 'that', 'are'], ['the', 'passages', 'or', 'that', 'are', 'to'], ['passages', 'or', 'chapters', 'are', 'to', 'some'], ['or', 'chapters', 'that', 'to', 'some', 'a'], ['chapters', 'that', 'are', 'some', 'a', 'blemish'], ['that', 'are', 'to', 'a', 'blemish', 'are'], ['are', 'to', 'some', 'blemish', 'are', 'all'], ['to', 'some', 'a', 'are', 'all', 'by'], ['some', 'a', 'blemish', 'all', 'by', 'others'], ['a', 'blemish', 'are', 'by', 'others', 'specially'], ['blemish', 'are', 'all', 'others', 'specially', 'approved'], ['are', 'all', 'by', 'specially', 'approved', '.'], ['all', 'by', 'others', 'approved', '.', 'the'], ['by', 'others', 'specially', '.', 'the', 'most'], ['others', 'specially', 'approved', 'the', 'most', 'critical'], ['specially', 'approved', '.', 'most', 'critical', 'reader'], ['approved', '.', 'the', 'critical', 'reader', 'of'], ['.', 'the', 'most', 'reader', 'of', 'all'], ['the', 'most', 'critical', 'of', 'all', '.'], ['most', 'critical', 'reader', 'all', '.', 'myself'], ['critical', 'reader', 'of', '.', 'myself', '.'], ['reader', 'of', 'all', 'myself', '.', 'now'], ['of', 'all', '.', '.', 'now', 'finds'], ['all', '.', 'myself', 'now', 'finds', 'many'], ['.', 'myself', '.', 'finds', 'many', 'defects'], ['myself', '.', 'now', 'many', 'defects', '.'], ['.', 'now', 'finds', 'defects', '.', 'minor'], ['now', 'finds', 'many', '.', 'minor', 'and'], ['finds', 'many', 'defects', 'minor', 'and', 'major'], ['many', 'defects', '.', 'and', 'major', '.'], ['defects', '.', 'minor', 'major', '.', 'but'], ['.', 'minor', 'and', '.', 'but', 'being'], ['minor', 'and', 'major', 'but', 'being', 'fortunately'], ['and', 'major', '.', 'being', 'fortunately', 'under'], ['major', '.', 'but', 'fortunately', 'under', 'no'], ['.', 'but', 'being', 'under', 'no', 'obligation'], ['but', 'being', 'fortunately', 'no', 'obligation', 'either'], ['being', 'fortunately', 'under', 'obligation', 'either', 'to'], ['fortunately', 'under', 'no', 'either', 'to', 'review'], ['under', 'no', 'obligation', 'to', 'review', 'the'], ['no', 'obligation', 'either', 'review', 'the', 'book'], ['obligation', 'either', 'to', 'the', 'book', 'or'], ['either', 'to', 'review', 'book', 'or', 'to'], ['to', 'review', 'the', 'or', 'to', 'write'], ['review', 'the', 'book', 'to', 'write', 'it'], ['the', 'book', 'or', 'write', 'it', 'again'], ['book', 'or', 'to', 'it', 'again', '.'], ['or', 'to', 'write', 'again', '.', 'he'], ['to', 'write', 'it', '.', 'he', 'will'], ['write', 'it', 'again', 'he', 'will', 'pass'], ['it', 'again', '.', 'will', 'pass', 'over'], ['again', '.', 'he', 'pass', 'over', 'these'], ['.', 'he', 'will', 'over', 'these', 'in'], ['he', 'will', 'pass', 'these', 'in', 'silence'], ['will', 'pass', 'over', 'in', 'silence', '.'], ['pass', 'over', 'these', 'silence', '.', 'except'], ['over', 'these', 'in', '.', 'except', 'one'], ['these', 'in', 'silence', 'except', 'one', 'that'], ['in', 'silence', '.', 'one', 'that', 'has'], ['silence', '.', 'except', 'that', 'has', 'been'], ['.', 'except', 'one', 'has', 'been', 'noted'], ['except', 'one', 'that', 'been', 'noted', 'by'], ['one', 'that', 'has', 'noted', 'by', 'others'], ['that', 'has', 'been', 'by', 'others', 'the'], ['has', 'been', 'noted', 'others', 'the', 'book'], ['been', 'noted', 'by', 'the', 'book', 'is'], ['noted', 'by', 'others', 'book', 'is', 'too'], ['by', 'others', 'the', 'is', 'too', 'short'], ['others', 'the', 'book', 'too', 'short', '.'], ['the', 'book', 'is', 'short', '.', 'as'], ['book', 'is', 'too', '.', 'as', 'for'], ['is', 'too', 'short', 'as', 'for', 'any'], ['too', 'short', '.', 'for', 'any', 'inner'], ['short', '.', 'as', 'any', 'inner', 'meaning'], ['.', 'as', 'for', 'inner', 'meaning', 'or'], ['as', 'for', 'any', 'meaning', 'or', '.'], ['for', 'any', 'inner', 'or', '.', 'it'], ['any', 'inner', 'meaning', '.', 'it', 'has'], ['inner', 'meaning', 'or', 'it', 'has', 'in'], ['meaning', 'or', '.', 'has', 'in', 'the'], ['or', '.', 'it', 'in', 'the', 'intention'], ['.', 'it', 'has', 'the', 'intention', 'of'], ['it', 'has', 'in', 'intention', 'of', 'the'], ['has', 'in', 'the', 'of', 'the', 'author'], ['in', 'the', 'intention', 'the', 'author', 'none'], ['the', 'intention', 'of', 'author', 'none', '.'], ['intention', 'of', 'the', 'none', '.', 'it'], ['of', 'the', 'author', '.', 'it', 'is'], ['the', 'author', 'none', 'it', 'is', 'neither'], ['author', 'none', '.', 'is', 'neither', 'allegorical'], ['none', '.', 'it', 'neither', 'allegorical', 'nor'], ['.', 'it', 'is', 'allegorical', 'nor', 'topical'], ['it', 'is', 'neither', 'nor', 'topical', '.'], ['is', 'neither', 'allegorical', 'topical', '.', 'as'], ['neither', 'allegorical', 'nor', '.', 'as', 'the'], ['allegorical', 'nor', 'topical', 'as', 'the', 'story'], ['nor', 'topical', '.', 'the', 'story', 'grew'], ['topical', '.', 'as', 'story', 'grew', 'it'], ['.', 'as', 'the', 'grew', 'it', 'put'], ['as', 'the', 'story', 'it', 'put', 'down'], ['the', 'story', 'grew', 'put', 'down', 'roots'], ['story', 'grew', 'it', 'down', 'roots', 'into'], ['grew', 'it', 'put', 'roots', 'into', 'the'], ['it', 'put', 'down', 'into', 'the', 'past'], ['put', 'down', 'roots', 'the', 'past', 'and'], ['down', 'roots', 'into', 'past', 'and', 'threw'], ['roots', 'into', 'the', 'and', 'threw', 'out'], ['into', 'the', 'past', 'threw', 'out', 'unexpected'], ['the', 'past', 'and', 'out', 'unexpected', 'branches'], ['past', 'and', 'threw', 'unexpected', 'branches', 'but'], ['and', 'threw', 'out', 'branches', 'but', 'its'], ['threw', 'out', 'unexpected', 'but', 'its', 'main'], ['out', 'unexpected', 'branches', 'its', 'main', 'theme'], ['unexpected', 'branches', 'but', 'main', 'theme', 'was'], ['branches', 'but', 'its', 'theme', 'was', 'settled'], ['but', 'its', 'main', 'was', 'settled', 'from'], ['its', 'main', 'theme', 'settled', 'from', 'the'], ['main', 'theme', 'was', 'from', 'the', 'outset'], ['theme', 'was', 'settled', 'the', 'outset', 'by'], ['was', 'settled', 'from', 'outset', 'by', 'the'], ['settled', 'from', 'the', 'by', 'the', 'inevitable'], ['from', 'the', 'outset', 'the', 'inevitable', 'choice'], ['the', 'outset', 'by', 'inevitable', 'choice', 'of'], ['outset', 'by', 'the', 'choice', 'of', 'the'], ['by', 'the', 'inevitable', 'of', 'the', 'ring'], ['the', 'inevitable', 'choice', 'the', 'ring', 'as'], ['inevitable', 'choice', 'of', 'ring', 'as', 'the'], ['choice', 'of', 'the', 'as', 'the', 'link'], ['of', 'the', 'ring', 'the', 'link', 'between'], ['the', 'ring', 'as', 'link', 'between', 'it'], ['ring', 'as', 'the', 'between', 'it', 'and'], ['as', 'the', 'link', 'it', 'and', 'the'], ['the', 'link', 'between', 'and', 'the', 'crucial'], ['link', 'between', 'it', 'the', 'crucial', 'chapter'], ['between', 'it', 'and', 'crucial', 'chapter', '.'], ['it', 'and', 'the', 'chapter', '.', 'the'], ['and', 'the', 'crucial', '.', 'the', 'shadow'], ['the', 'crucial', 'chapter', 'the', 'shadow', 'of'], ['crucial', 'chapter', '.', 'shadow', 'of', 'the'], ['chapter', '.', 'the', 'of', 'the', 'past'], ['.', 'the', 'shadow', 'the', 'past', '.'], ['the', 'shadow', 'of', 'past', '.', 'is'], ['shadow', 'of', 'the', '.', 'is', 'one'], ['of', 'the', 'past', 'is', 'one', 'of'], ['the', 'past', '.', 'one', 'of', 'the'], ['past', '.', 'is', 'of', 'the', 'oldest'], ['.', 'is', 'one', 'the', 'oldest', 'parts'], ['is', 'one', 'of', 'oldest', 'parts', 'of'], ['one', 'of', 'the', 'parts', 'of', 'the'], ['of', 'the', 'oldest', 'of', 'the', 'tale'], ['the', 'oldest', 'parts', 'the', 'tale', '.'], ['oldest', 'parts', 'of', 'tale', '.', 'it'], ['parts', 'of', 'the', '.', 'it', 'was'], ['of', 'the', 'tale', 'it', 'was', 'written'], ['the', 'tale', '.', 'was', 'written', 'long'], ['tale', '.', 'it', 'written', 'long', 'before'], ['.', 'it', 'was', 'long', 'before', 'the'], ['it', 'was', 'written', 'before', 'the', 'foreshadow'], ['was', 'written', 'long', 'the', 'foreshadow', 'of'], ['written', 'long', 'before', 'foreshadow', 'of', 'had'], ['long', 'before', 'the', 'of', 'had', 'yet'], ['before', 'the', 'foreshadow', 'had', 'yet', 'become'], ['the', 'foreshadow', 'of', 'yet', 'become', 'a'], ['foreshadow', 'of', 'had', 'become', 'a', 'threat'], ['of', 'had', 'yet', 'a', 'threat', 'of'], ['had', 'yet', 'become', 'threat', 'of', 'inevitable'], ['yet', 'become', 'a', 'of', 'inevitable', 'disaster'], ['become', 'a', 'threat', 'inevitable', 'disaster', '.'], ['a', 'threat', 'of', 'disaster', '.', 'and'], ['threat', 'of', 'inevitable', '.', 'and', 'from'], ['of', 'inevitable', 'disaster', 'and', 'from', 'that'], ['inevitable', 'disaster', '.', 'from', 'that', 'point'], ['disaster', '.', 'and', 'that', 'point', 'the'], ['.', 'and', 'from', 'point', 'the', 'story'], ['and', 'from', 'that', 'the', 'story', 'would'], ['from', 'that', 'point', 'story', 'would', 'have'], ['that', 'point', 'the', 'would', 'have', 'developed'], ['point', 'the', 'story', 'have', 'developed', 'along'], ['the', 'story', 'would', 'developed', 'along', 'essentially'], ['story', 'would', 'have', 'along', 'essentially', 'the'], ['would', 'have', 'developed', 'essentially', 'the', 'same'], ['have', 'developed', 'along', 'the', 'same', 'lines'], ['developed', 'along', 'essentially', 'same', 'lines', '.'], ['along', 'essentially', 'the', 'lines', '.', 'if'], ['essentially', 'the', 'same', '.', 'if', 'that'], ['the', 'same', 'lines', 'if', 'that', 'disaster'], ['same', 'lines', '.', 'that', 'disaster', 'had'], ['lines', '.', 'if', 'disaster', 'had', 'been'], ['.', 'if', 'that', 'had', 'been', 'averted'], ['if', 'that', 'disaster', 'been', 'averted', '.'], ['that', 'disaster', 'had', 'averted', '.', 'its'], ['disaster', 'had', 'been', '.', 'its', 'sources'], ['had', 'been', 'averted', 'its', 'sources', 'are'], ['been', 'averted', '.', 'sources', 'are', 'things'], ['averted', '.', 'its', 'are', 'things', 'long'], ['.', 'its', 'sources', 'things', 'long', 'before'], ['its', 'sources', 'are', 'long', 'before', 'in'], ['sources', 'are', 'things', 'before', 'in', 'mind'], ['are', 'things', 'long', 'in', 'mind', '.'], ['things', 'long', 'before', 'mind', '.', 'or'], ['long', 'before', 'in', '.', 'or', 'in'], ['before', 'in', 'mind', 'or', 'in', 'some'], ['in', 'mind', '.', 'in', 'some', 'cases'], ['mind', '.', 'or', 'some', 'cases', 'already'], ['.', 'or', 'in', 'cases', 'already', 'written'], ['or', 'in', 'some', 'already', 'written', '.'], ['in', 'some', 'cases', 'written', '.', 'and'], ['some', 'cases', 'already', '.', 'and', 'little'], ['cases', 'already', 'written', 'and', 'little', 'or'], ['already', 'written', '.', 'little', 'or', 'nothing'], ['written', '.', 'and', 'or', 'nothing', 'in'], ['.', 'and', 'little', 'nothing', 'in', 'it'], ['and', 'little', 'or', 'in', 'it', 'was'], ['little', 'or', 'nothing', 'it', 'was', 'modified'], ['or', 'nothing', 'in', 'was', 'modified', 'by'], ['nothing', 'in', 'it', 'modified', 'by', 'the'], ['in', 'it', 'was', 'by', 'the', 'war'], ['it', 'was', 'modified', 'the', 'war', 'that'], ['was', 'modified', 'by', 'war', 'that', 'began'], ['modified', 'by', 'the', 'that', 'began', 'in'], ['by', 'the', 'war', 'began', 'in', 'or'], ['the', 'war', 'that', 'in', 'or', 'its'], ['war', 'that', 'began', 'or', 'its', 'sequels'], ['that', 'began', 'in', 'its', 'sequels', '.'], ['began', 'in', 'or', 'sequels', '.', 'the'], ['in', 'or', 'its', '.', 'the', 'real'], ['or', 'its', 'sequels', 'the', 'real', 'war'], ['its', 'sequels', '.', 'real', 'war', 'does'], ['sequels', '.', 'the', 'war', 'does', 'not'], ['.', 'the', 'real', 'does', 'not', 'resemble'], ['the', 'real', 'war', 'not', 'resemble', 'the'], ['real', 'war', 'does', 'resemble', 'the', 'legendary'], ['war', 'does', 'not', 'the', 'legendary', 'war'], ['does', 'not', 'resemble', 'legendary', 'war', 'in'], ['not', 'resemble', 'the', 'war', 'in', 'its'], ['resemble', 'the', 'legendary', 'in', 'its', 'process'], ['the', 'legendary', 'war', 'its', 'process', 'or'], ['legendary', 'war', 'in', 'process', 'or', 'its'], ['war', 'in', 'its', 'or', 'its', 'conclusion'], ['in', 'its', 'process', 'its', 'conclusion', '.'], ['its', 'process', 'or', 'conclusion', '.', 'if'], ['process', 'or', 'its', '.', 'if', 'it'], ['or', 'its', 'conclusion', 'if', 'it', 'had'], ['its', 'conclusion', '.', 'it', 'had', 'inspired'], ['conclusion', '.', 'if', 'had', 'inspired', 'or'], ['.', 'if', 'it', 'inspired', 'or', 'directed'], ['if', 'it', 'had', 'or', 'directed', 'the'], ['it', 'had', 'inspired', 'directed', 'the', 'development'], ['had', 'inspired', 'or', 'the', 'development', 'of'], ['inspired', 'or', 'directed', 'development', 'of', 'the'], ['or', 'directed', 'the', 'of', 'the', 'legend'], ['directed', 'the', 'development', 'the', 'legend', '.'], ['the', 'development', 'of', 'legend', '.', 'then'], ['development', 'of', 'the', '.', 'then', 'certainly'], ['of', 'the', 'legend', 'then', 'certainly', 'the'], ['the', 'legend', '.', 'certainly', 'the', 'ring'], ['legend', '.', 'then', 'the', 'ring', 'would'], ['.', 'then', 'certainly', 'ring', 'would', 'have'], ['then', 'certainly', 'the', 'would', 'have', 'been'], ['certainly', 'the', 'ring', 'have', 'been', 'seized'], ['the', 'ring', 'would', 'been', 'seized', 'and'], ['ring', 'would', 'have', 'seized', 'and', 'used'], ['would', 'have', 'been', 'and', 'used', 'against'], ['have', 'been', 'seized', 'used', 'against', 'sauron'], ['been', 'seized', 'and', 'against', 'sauron', '.'], ['seized', 'and', 'used', 'sauron', '.', 'he'], ['and', 'used', 'against', '.', 'he', 'would'], ['used', 'against', 'sauron', 'he', 'would', 'not'], ['against', 'sauron', '.', 'would', 'not', 'have'], ['sauron', '.', 'he', 'not', 'have', 'been'], ['.', 'he', 'would', 'have', 'been', 'annihilated'], ['he', 'would', 'not', 'been', 'annihilated', 'but'], ['would', 'not', 'have', 'annihilated', 'but', 'enslaved'], ['not', 'have', 'been', 'but', 'enslaved', '.'], ['have', 'been', 'annihilated', 'enslaved', '.', 'and'], ['been', 'annihilated', 'but', '.', 'and', 'would'], ['annihilated', 'but', 'enslaved', 'and', 'would', 'not'], ['but', 'enslaved', '.', 'would', 'not', 'have'], ['enslaved', '.', 'and', 'not', 'have', 'been'], ['.', 'and', 'would', 'have', 'been', 'destroyed'], ['and', 'would', 'not', 'been', 'destroyed', 'but'], ['would', 'not', 'have', 'destroyed', 'but', 'occupied'], ['not', 'have', 'been', 'but', 'occupied', '.'], ['have', 'been', 'destroyed', 'occupied', '.', 'saruman'], ['been', 'destroyed', 'but', '.', 'saruman', '.'], ['destroyed', 'but', 'occupied', 'saruman', '.', 'failing'], ['but', 'occupied', '.', '.', 'failing', 'to'], ['occupied', '.', 'saruman', 'failing', 'to', 'get'], ['.', 'saruman', '.', 'to', 'get', 'possession'], ['saruman', '.', 'failing', 'get', 'possession', 'of'], ['.', 'failing', 'to', 'possession', 'of', 'the'], ['failing', 'to', 'get', 'of', 'the', 'ring'], ['to', 'get', 'possession', 'the', 'ring', '.'], ['get', 'possession', 'of', 'ring', '.', 'would'], ['possession', 'of', 'the', '.', 'would', 'm'], ['of', 'the', 'ring', 'would', 'm', 'the'], ['the', 'ring', '.', 'm', 'the', 'confusion'], ['ring', '.', 'would', 'the', 'confusion', 'and'], ['.', 'would', 'm', 'confusion', 'and', 'treacheries'], ['would', 'm', 'the', 'and', 'treacheries', 'of'], ['m', 'the', 'confusion', 'treacheries', 'of', 'the'], ['the', 'confusion', 'and', 'of', 'the', 'time'], ['confusion', 'and', 'treacheries', 'the', 'time', 'have'], ['and', 'treacheries', 'of', 'time', 'have', 'found'], ['treacheries', 'of', 'the', 'have', 'found', 'in'], ['of', 'the', 'time', 'found', 'in', 'mordor'], ['the', 'time', 'have', 'in', 'mordor', 'the'], ['time', 'have', 'found', 'mordor', 'the', 'missing'], ['have', 'found', 'in', 'the', 'missing', 'links'], ['found', 'in', 'mordor', 'missing', 'links', 'in'], ['in', 'mordor', 'the', 'links', 'in', 'his'], ['mordor', 'the', 'missing', 'in', 'his', 'own'], ['the', 'missing', 'links', 'his', 'own', 'researches'], ['missing', 'links', 'in', 'own', 'researches', 'into'], ['links', 'in', 'his', 'researches', 'into', '.'], ['in', 'his', 'own', 'into', '.', 'and'], ['his', 'own', 'researches', '.', 'and', 'before'], ['own', 'researches', 'into', 'and', 'before', 'long'], ['researches', 'into', '.', 'before', 'long', 'he'], ['into', '.', 'and', 'long', 'he', 'would'], ['.', 'and', 'before', 'he', 'would', 'have'], ['and', 'before', 'long', 'would', 'have', 'made'], ['before', 'long', 'he', 'have', 'made', 'a'], ['long', 'he', 'would', 'made', 'a', 'great'], ['he', 'would', 'have', 'a', 'great', 'ring'], ['would', 'have', 'made', 'great', 'ring', 'of'], ['have', 'made', 'a', 'ring', 'of', 'his'], ['made', 'a', 'great', 'of', 'his', 'own'], ['a', 'great', 'ring', 'his', 'own', 'with'], ['great', 'ring', 'of', 'own', 'with', 'which'], ['ring', 'of', 'his', 'with', 'which', 'to'], ['of', 'his', 'own', 'which', 'to', 'challenge'], ['his', 'own', 'with', 'to', 'challenge', 'the'], ['own', 'with', 'which', 'challenge', 'the', 'ruler'], ['with', 'which', 'to', 'the', 'ruler', 'of'], ['which', 'to', 'challenge', 'ruler', 'of', '.'], ['to', 'challenge', 'the', 'of', '.', 'in'], ['challenge', 'the', 'ruler', '.', 'in', 'that'], ['the', 'ruler', 'of', 'in', 'that', 'conflict'], ['ruler', 'of', '.', 'that', 'conflict', 'both'], ['of', '.', 'in', 'conflict', 'both', 'sides'], ['.', 'in', 'that', 'both', 'sides', 'would'], ['in', 'that', 'conflict', 'sides', 'would', 'have'], ['that', 'conflict', 'both', 'would', 'have', 'held'], ['conflict', 'both', 'sides', 'have', 'held', 'hobbits'], ['both', 'sides', 'would', 'held', 'hobbits', 'in'], ['sides', 'would', 'have', 'hobbits', 'in', 'hatred'], ['would', 'have', 'held', 'in', 'hatred', 'and'], ['have', 'held', 'hobbits', 'hatred', 'and', 'contempt'], ['held', 'hobbits', 'in', 'and', 'contempt', 'they'], ['hobbits', 'in', 'hatred', 'contempt', 'they', 'would'], ['in', 'hatred', 'and', 'they', 'would', 'not'], ['hatred', 'and', 'contempt', 'would', 'not', 'long'], ['and', 'contempt', 'they', 'not', 'long', 'have'], ['contempt', 'they', 'would', 'long', 'have', 'survived'], ['they', 'would', 'not', 'have', 'survived', 'even'], ['would', 'not', 'long', 'survived', 'even', 'as'], ['not', 'long', 'have', 'even', 'as', 'slaves'], ['long', 'have', 'survived', 'as', 'slaves', '.'], ['have', 'survived', 'even', 'slaves', '.', 'other'], ['survived', 'even', 'as', '.', 'other', 'arrangements'], ['even', 'as', 'slaves', 'other', 'arrangements', 'could'], ['as', 'slaves', '.', 'arrangements', 'could', 'be'], ['slaves', '.', 'other', 'could', 'be', 'devised'], ['.', 'other', 'arrangements', 'be', 'devised', 'according'], ['other', 'arrangements', 'could', 'devised', 'according', 'to'], ['arrangements', 'could', 'be', 'according', 'to', 'the'], ['could', 'be', 'devised', 'to', 'the', 'tastes'], ['be', 'devised', 'according', 'the', 'tastes', 'or'], ['devised', 'according', 'to', 'tastes', 'or', 'views'], ['according', 'to', 'the', 'or', 'views', 'of'], ['to', 'the', 'tastes', 'views', 'of', 'those'], ['the', 'tastes', 'or', 'of', 'those', 'who'], ['tastes', 'or', 'views', 'those', 'who', 'like'], ['or', 'views', 'of', 'who', 'like', 'allegory'], ['views', 'of', 'those', 'like', 'allegory', 'or'], ['of', 'those', 'who', 'allegory', 'or', 'topical'], ['those', 'who', 'like', 'or', 'topical', 'reference'], ['who', 'like', 'allegory', 'topical', 'reference', '.'], ['like', 'allegory', 'or', 'reference', '.', 'but'], ['allegory', 'or', 'topical', '.', 'but', 'i'], ['or', 'topical', 'reference', 'but', 'i', 'cordially'], ['topical', 'reference', '.', 'i', 'cordially', 'dislike'], ['reference', '.', 'but', 'cordially', 'dislike', 'allegory'], ['.', 'but', 'i', 'dislike', 'allegory', 'in'], ['but', 'i', 'cordially', 'allegory', 'in', 'all'], ['i', 'cordially', 'dislike', 'in', 'all', 'its'], ['cordially', 'dislike', 'allegory', 'all', 'its', 'manifestations'], ['dislike', 'allegory', 'in', 'its', 'manifestations', '.'], ['allegory', 'in', 'all', 'manifestations', '.', 'and'], ['in', 'all', 'its', '.', 'and', 'always'], ['all', 'its', 'manifestations', 'and', 'always', 'have'], ['its', 'manifestations', '.', 'always', 'have', 'done'], ['manifestations', '.', 'and', 'have', 'done', 'so'], ['.', 'and', 'always', 'done', 'so', 'since'], ['and', 'always', 'have', 'so', 'since', 'i'], ['always', 'have', 'done', 'since', 'i', 'grew'], ['have', 'done', 'so', 'i', 'grew', 'old'], ['done', 'so', 'since', 'grew', 'old', 'and'], ['so', 'since', 'i', 'old', 'and', 'wary'], ['since', 'i', 'grew', 'and', 'wary', 'enough'], ['i', 'grew', 'old', 'wary', 'enough', 'to'], ['grew', 'old', 'and', 'enough', 'to', 'detect'], ['old', 'and', 'wary', 'to', 'detect', 'its'], ['and', 'wary', 'enough', 'detect', 'its', 'presence'], ['wary', 'enough', 'to', 'its', 'presence', '.'], ['enough', 'to', 'detect', 'presence', '.', 'i'], ['to', 'detect', 'its', '.', 'i', 'much'], ['detect', 'its', 'presence', 'i', 'much', 'prefer'], ['its', 'presence', '.', 'much', 'prefer', 'history'], ['presence', '.', 'i', 'prefer', 'history', '.'], ['.', 'i', 'much', 'history', '.', 'true'], ['i', 'much', 'prefer', '.', 'true', 'or'], ['much', 'prefer', 'history', 'true', 'or', 'feigned'], ['prefer', 'history', '.', 'or', 'feigned', '.'], ['history', '.', 'true', 'feigned', '.', 'with'], ['.', 'true', 'or', '.', 'with', 'its'], ['true', 'or', 'feigned', 'with', 'its', 'varied'], ['or', 'feigned', '.', 'its', 'varied', 'applicability'], ['feigned', '.', 'with', 'varied', 'applicability', 'to'], ['.', 'with', 'its', 'applicability', 'to', 'the'], ['with', 'its', 'varied', 'to', 'the', 'thought'], ['its', 'varied', 'applicability', 'the', 'thought', 'and'], ['varied', 'applicability', 'to', 'thought', 'and', 'experience'], ['applicability', 'to', 'the', 'and', 'experience', 'of'], ['to', 'the', 'thought', 'experience', 'of', 'readers'], ['the', 'thought', 'and', 'of', 'readers', '.'], ['thought', 'and', 'experience', 'readers', '.', 'i'], ['and', 'experience', 'of', '.', 'i', 'think'], ['experience', 'of', 'readers', 'i', 'think', 'that'], ['of', 'readers', '.', 'think', 'that', 'many'], ['readers', '.', 'i', 'that', 'many', 'confuse'], ['.', 'i', 'think', 'many', 'confuse', 'with'], ['i', 'think', 'that', 'confuse', 'with', '.'], ['think', 'that', 'many', 'with', '.', 'but'], ['that', 'many', 'confuse', '.', 'but', 'the'], ['many', 'confuse', 'with', 'but', 'the', 'one'], ['confuse', 'with', '.', 'the', 'one', 'resides'], ['with', '.', 'but', 'one', 'resides', 'in'], ['.', 'but', 'the', 'resides', 'in', 'the'], ['but', 'the', 'one', 'in', 'the', 'freedom'], ['the', 'one', 'resides', 'the', 'freedom', 'of'], ['one', 'resides', 'in', 'freedom', 'of', 'the'], ['resides', 'in', 'the', 'of', 'the', 'reader'], ['in', 'the', 'freedom', 'the', 'reader', '.'], ['the', 'freedom', 'of', 'reader', '.', 'and'], ['freedom', 'of', 'the', '.', 'and', 'the'], ['of', 'the', 'reader', 'and', 'the', 'other'], ['the', 'reader', '.', 'the', 'other', 'in'], ['reader', '.', 'and', 'other', 'in', 'the'], ['.', 'and', 'the', 'in', 'the', 'purposed'], ['and', 'the', 'other', 'the', 'purposed', 'domination'], ['the', 'other', 'in', 'purposed', 'domination', 'of'], ['other', 'in', 'the', 'domination', 'of', 'the'], ['in', 'the', 'purposed', 'of', 'the', 'author'], ['the', 'purposed', 'domination', 'the', 'author', '.'], ['purposed', 'domination', 'of', 'author', '.', 'an'], ['domination', 'of', 'the', '.', 'an', 'author'], ['of', 'the', 'author', 'an', 'author', 'can'], ['the', 'author', '.', 'author', 'can', 'not'], ['author', '.', 'an', 'can', 'not', 'of'], ['.', 'an', 'author', 'not', 'of', 'course'], ['an', 'author', 'can', 'of', 'course', 'remain'], ['author', 'can', 'not', 'course', 'remain', 'wholly'], ['can', 'not', 'of', 'remain', 'wholly', 'unaffected'], ['not', 'of', 'course', 'wholly', 'unaffected', 'by'], ['of', 'course', 'remain', 'unaffected', 'by', 'his'], ['course', 'remain', 'wholly', 'by', 'his', 'experience'], ['remain', 'wholly', 'unaffected', 'his', 'experience', '.'], ['wholly', 'unaffected', 'by', 'experience', '.', 'but'], ['unaffected', 'by', 'his', '.', 'but', 'the'], ['by', 'his', 'experience', 'but', 'the', 'ways'], ['his', 'experience', '.', 'the', 'ways', 'in'], ['experience', '.', 'but', 'ways', 'in', 'which'], ['.', 'but', 'the', 'in', 'which', 'a'], ['but', 'the', 'ways', 'which', 'a', 'uses'], ['the', 'ways', 'in', 'a', 'uses', 'the'], ['ways', 'in', 'which', 'uses', 'the', 'soil'], ['in', 'which', 'a', 'the', 'soil', 'of'], ['which', 'a', 'uses', 'soil', 'of', 'experience'], ['a', 'uses', 'the', 'of', 'experience', 'are'], ['uses', 'the', 'soil', 'experience', 'are', 'extremely'], ['the', 'soil', 'of', 'are', 'extremely', 'complex'], ['soil', 'of', 'experience', 'extremely', 'complex', '.'], ['of', 'experience', 'are', 'complex', '.', 'and'], ['experience', 'are', 'extremely', '.', 'and', 'attempts'], ['are', 'extremely', 'complex', 'and', 'attempts', 'to'], ['extremely', 'complex', '.', 'attempts', 'to', 'define'], ['complex', '.', 'and', 'to', 'define', 'the'], ['.', 'and', 'attempts', 'define', 'the', 'process'], ['and', 'attempts', 'to', 'the', 'process', 'are'], ['attempts', 'to', 'define', 'process', 'are', 'at'], ['to', 'define', 'the', 'are', 'at', 'best'], ['define', 'the', 'process', 'at', 'best', 'guesses'], ['the', 'process', 'are', 'best', 'guesses', 'from'], ['process', 'are', 'at', 'guesses', 'from', 'evidence'], ['are', 'at', 'best', 'from', 'evidence', 'that'], ['at', 'best', 'guesses', 'evidence', 'that', 'is'], ['best', 'guesses', 'from', 'that', 'is', 'inadequate'], ['guesses', 'from', 'evidence', 'is', 'inadequate', 'and'], ['from', 'evidence', 'that', 'inadequate', 'and', 'ambiguous'], ['evidence', 'that', 'is', 'and', 'ambiguous', '.'], ['that', 'is', 'inadequate', 'ambiguous', '.', 'it'], ['is', 'inadequate', 'and', '.', 'it', 'is'], ['inadequate', 'and', 'ambiguous', 'it', 'is', 'also'], ['and', 'ambiguous', '.', 'is', 'also', 'false'], ['ambiguous', '.', 'it', 'also', 'false', '.'], ['.', 'it', 'is', 'false', '.', 'though'], ['it', 'is', 'also', '.', 'though', 'naturally'], ['is', 'also', 'false', 'though', 'naturally', 'attractive'], ['also', 'false', '.', 'naturally', 'attractive', '.']]\n"
          ]
        }
      ],
      "source": [
        "# Create the data\n",
        "# The dataset is very large, so we will only use the first 2000 tokens for now\n",
        "# There will be 3 words on each side of the center word\n",
        "context_words, target_words = get_windows(\n",
        "    dataset.tokens[:2000],\n",
        "    ctx_size=3\n",
        ")\n",
        "\n",
        "print(context_words)"
      ]
    },
    {
      "cell_type": "markdown",
      "metadata": {
        "id": "2sTlo431HvO-"
      },
      "source": [
        "<details>    \n",
        "<summary>\n",
        "    <font size=\"3\" color=\"darkgreen\"><b>Hints</b></font>\n",
        "</summary>\n",
        "<p>\n",
        "<ul>\n",
        "    <li>A simple (but slightly inefficient) way to implement this would be to use two `for` loops (ignoring the one for sampling the negative words): one for the center word/window, an inner one for each context word so you have a (ctx, target) pair. This is done since you are passing the windows as they are into the function.</li>\n",
        "    <li>Be VERY careful about which variable is a string, and which is the corresponding index in the vocab. You can use the `encode` function to move from string to index.</li>\n",
        "    <li>Print out the shapes or use `assert` statements to ensure the shapes are the way you'd expect them. Broadcasting can mess things up if you're not careful.</li>\n",
        "    <li>Never forget: the gradients that are being calculated will ONLY update the embeddings for the corresponding tokens in the matrices, NOT THE ENTIRE MATRIX.</li>\n",
        "    <li>An easy way to do this is to make a matrix of zeros representing the gradients for one of the Embedding matrices. When you create the gradient vector(s) for the target/context/negative samples, you can simply replace the corresponding row in that zeros matrix with that vector. The update equation will be very easy to implement.</li>\n",
        "    <li>If you're running into overflows/underflows or numerical instability, there is something wrong with your implementation. If you're sure everything is correct, double-check your equations with the lecture slides - one wrong sign for a gradient cost me an hour of debugging ;-;</li>\n",
        "</ul>\n",
        "</p>"
      ]
    },
    {
      "cell_type": "code",
      "execution_count": null,
      "metadata": {
        "id": "7WZ6iPi7HvO-"
      },
      "outputs": [],
      "source": [
        "def sigmoid(x : np.ndarray):\n",
        "    return 1 / (1 + np.exp(-x))\n",
        "\n",
        "class word2vec:\n",
        "\n",
        "    def __init__(self,\n",
        "                 vocab_size : int,\n",
        "                 stoi : dict,\n",
        "                 emb_dim : int):\n",
        "\n",
        "        ## Your code here\n",
        "        self.vocab_size = vocab_size\n",
        "        self.stoi = stoi\n",
        "        self.emb_dim = emb_dim\n",
        "\n",
        "        self.W = np.random.rand(vocab_size, emb_dim)\n",
        "        self.C = np.random.rand(vocab_size, emb_dim)\n",
        "\n",
        "        ## --\n",
        "\n",
        "    def __call__(self, x : int):\n",
        "        return (self.W[x] + self.C[x]) / 2\n",
        "\n",
        "\n",
        "    def encode(self, x : Union[str, List[str]]):\n",
        "        return [dataset.stoi[i] for i in x] if isinstance(x, list) else self.stoi[x]\n",
        "\n",
        "    def fit(self,\n",
        "            context_words : List[List[str]],\n",
        "            target_words : List[str],\n",
        "            num_epochs : int = 5,\n",
        "            learning_rate : float = 0.001,\n",
        "            K : int = 5):\n",
        "        '''\n",
        "        Runs the training algorithm for the word2vec model\n",
        "        '''\n",
        "\n",
        "        losses = []\n",
        "\n",
        "        for epoch in range(num_epochs):\n",
        "\n",
        "            epoch_loss = 0.0\n",
        "\n",
        "            ## Your code here\n",
        "            for i in range(len(target_words)):\n",
        "\n",
        "                target_index = self.encode(target_words[i])\n",
        "                # print\n",
        "                target_emb = self.W[target_index]\n",
        "\n",
        "                # print(target_emb.shape)\n",
        "\n",
        "                # get the neg samples and the actual ctx word\n",
        "                for j in range(len(context_words[i])):\n",
        "                    ctx_index = self.encode(context_words[i][j])\n",
        "                    ctx_emb = self.C[ctx_index]\n",
        "\n",
        "                    # print(ctx_emb.shape)\n",
        "                    dot_prod_ctx = np.dot(target_emb, ctx_emb)\n",
        "\n",
        "                    negative_sample_embeddings = []\n",
        "                    neg_dot_prods = []\n",
        "                    neg_indices = []\n",
        "                    for _ in range(K):\n",
        "                        negative_word = sample_neg_word(target_words[i], dataset.vocab)\n",
        "                        neg_index = self.encode(negative_word)\n",
        "                        neg_emb = self.C[neg_index]\n",
        "                        neg_indices.append(neg_index)\n",
        "\n",
        "                        temp = np.dot(target_emb, neg_emb)\n",
        "                        neg_dot_prods.append(temp)\n",
        "                        negative_sample_embeddings.append(neg_emb)\n",
        "\n",
        "                        dot_products = ([dot_prod_ctx] + neg_dot_prods)\n",
        "\n",
        "                    pos_term = -np.log(sigmoid(dot_prod_ctx))\n",
        "                    neg_terms = -np.log(sigmoid(-np.array(neg_dot_prods)))\n",
        "                    sum_neg_terms = np.sum(neg_terms)\n",
        "                    loss = pos_term + sum_neg_terms\n",
        "                    epoch_loss += loss\n",
        "\n",
        "                    grad_w = (sigmoid(dot_prod_ctx) - 1) * ctx_emb\n",
        "                    for neg_emb in negative_sample_embeddings:\n",
        "                        grad_w += sigmoid(np.dot(neg_emb, target_emb)) * neg_emb\n",
        "\n",
        "                    grad_c_pos = (sigmoid(dot_prod_ctx) - 1) * target_emb\n",
        "\n",
        "                    grad_c_negs = []\n",
        "                    for neg_dot_prod in neg_dot_prods:\n",
        "                        grad_c_negs.append(sigmoid(neg_dot_prod) * target_emb)\n",
        "\n",
        "\n",
        "                    self.W[target_index] -= learning_rate * grad_w\n",
        "\n",
        "                    grad_c = np.zeros_like(self.C)\n",
        "\n",
        "                    grad_c[ctx_index] = grad_c_pos\n",
        "\n",
        "                    for k in range(len(neg_indices)):\n",
        "\n",
        "                        neg_index = neg_indices[k]\n",
        "                        grad_c[neg_index] = grad_c_negs[k]\n",
        "\n",
        "                    self.C -= learning_rate * grad_c\n",
        "\n",
        "            ## --\n",
        "\n",
        "            epoch_loss = epoch_loss / len(target_words)\n",
        "            print(f\"Epoch {epoch+1}/{num_epochs} - Loss: {epoch_loss:.3f}\")\n",
        "            losses.append(epoch_loss)\n",
        "\n",
        "        return losses\n",
        "\n",
        "w2v_model = word2vec(vocab_size=dataset.vocab_size,\n",
        "                     stoi=dataset.stoi,\n",
        "                     emb_dim=100)"
      ]
    },
    {
      "cell_type": "code",
      "execution_count": null,
      "metadata": {
        "colab": {
          "base_uri": "https://localhost:8080/"
        },
        "id": "QXMWwf4gS1ek",
        "outputId": "59ca292f-7ac6-4831-aa2d-e422213c8a3d"
      },
      "outputs": [
        {
          "data": {
            "text/plain": [
              "[1, 2, 3, 4]"
            ]
          },
          "execution_count": 12,
          "metadata": {},
          "output_type": "execute_result"
        }
      ],
      "source": [
        "temp = [1] + [2, 3, 4]\n",
        "\n",
        "temp"
      ]
    },
    {
      "cell_type": "code",
      "execution_count": null,
      "metadata": {
        "colab": {
          "base_uri": "https://localhost:8080/",
          "height": 656
        },
        "id": "gN6iepUiHvO-",
        "outputId": "05a99ffa-3d8a-41d9-d688-984d5400c5ef"
      },
      "outputs": [
        {
          "name": "stdout",
          "output_type": "stream",
          "text": [
            "Epoch 1/10 - Loss: 502.663\n",
            "Epoch 2/10 - Loss: 371.790\n",
            "Epoch 3/10 - Loss: 319.716\n",
            "Epoch 4/10 - Loss: 285.002\n",
            "Epoch 5/10 - Loss: 258.666\n",
            "Epoch 6/10 - Loss: 237.381\n",
            "Epoch 7/10 - Loss: 218.363\n",
            "Epoch 8/10 - Loss: 201.111\n",
            "Epoch 9/10 - Loss: 185.768\n",
            "Epoch 10/10 - Loss: 172.263\n"
          ]
        },
        {
          "data": {
            "image/png": "[encoded data removed]",
            "text/plain": [
              "<Figure size 640x480 with 1 Axes>"
            ]
          },
          "metadata": {},
          "output_type": "display_data"
        }
      ],
      "source": [
        "losses = w2v_model.fit(context_words,\n",
        "                       target_words,\n",
        "                       num_epochs=10)\n",
        "\n",
        "# Plot the loss curves\n",
        "plt.plot(losses)\n",
        "plt.xlabel(\"Epoch\")\n",
        "plt.ylabel(\"Loss\")\n",
        "plt.title(\"Loss curve for word2vec\")\n",
        "plt.show()"
      ]
    },
    {
      "cell_type": "code",
      "execution_count": null,
      "metadata": {
        "id": "De4TnMTHK7dt"
      },
      "outputs": [],
      "source": [
        "# losses"
      ]
    },
    {
      "cell_type": "markdown",
      "metadata": {
        "id": "IfO0gS3wHvO_"
      },
      "source": [
        "### Cosine Similarity\n",
        "\n",
        "Hopefully you were able to implement and train the model successfully!\n",
        "\n",
        "Now to actually examine the embeddings you've trained. We will do one small exercise involving checking the similarity of pairs of words in the vocabulary.\n",
        "\n",
        "This means you will need to implement the Cosine Similarity function. Recall that the Cosine Similarity between two vectors $u$ and $v$ is given by:\n",
        "$$ \\text{Cosine Similarity}(u, v) = \\frac{u \\cdot v}{||u|| \\cdot ||v||} $$\n",
        "\n",
        "You will implement this in the `cosine_similarity` function below. You will then use this function on a series of predefined word pairs to see how similar they are in the embedding space: this entails that they showed up in similar contexts in the text.\n",
        "\n",
        "Since most people are not cultured enough to have read the Lord of the Rings, here are some notes to make sense of what you _should_ see:\n",
        "\n",
        "- `Frodo` and `Sam` are best friends, so they should have a high similarity.\n",
        "\n",
        "- `Gandalf` has been referred to as Gandalf the `White`.\n",
        "\n",
        "- `Frodo` must make an arduous journey to `Mordor`.\n",
        "\n",
        "- `Aragorn` is close to Frodo, but hasn't been to his home of the `Shire`."
      ]
    },
    {
      "cell_type": "code",
      "execution_count": null,
      "metadata": {
        "id": "Vl9Wl_DGM71Y"
      },
      "outputs": [],
      "source": [
        "# print(dataset.tokens[:2000])"
      ]
    },
    {
      "cell_type": "code",
      "execution_count": null,
      "metadata": {
        "colab": {
          "base_uri": "https://localhost:8080/"
        },
        "id": "6l1Wq59wHvO_",
        "outputId": "4becaa80-a879-4e40-c83b-a30d9ab0a83e"
      },
      "outputs": [
        {
          "name": "stdout",
          "output_type": "stream",
          "text": [
            "0.6032366860025639\n",
            "0.6480603730673702\n",
            "-0.1272498062738702\n",
            "-0.05071742294823711\n"
          ]
        }
      ],
      "source": [
        "def cosine_similarity(u, v):\n",
        "    '''\n",
        "    Implements the cosine similarity for vectors u and v\n",
        "    '''\n",
        "    ## Your code here\n",
        "    num = np.dot(u, v)\n",
        "    denom = np.sqrt(np.sum(u ** 2)) * np.sqrt(np.sum(v ** 2))\n",
        "    sim = num / denom\n",
        "    ## --\n",
        "    return sim\n",
        "\n",
        "print(cosine_similarity(\n",
        "    w2v_model.W[dataset.stoi[\"frodo\"]],\n",
        "    w2v_model.C[dataset.stoi[\"sam\"]]\n",
        "))\n",
        "\n",
        "print(cosine_similarity(\n",
        "    w2v_model.W[dataset.stoi[\"gandalf\"]],\n",
        "    w2v_model.C[dataset.stoi[\"white\"]]\n",
        "))\n",
        "\n",
        "print(cosine_similarity(\n",
        "    w2v_model.W[dataset.stoi[\"mordor\"]],\n",
        "    w2v_model.C[dataset.stoi[\"frodo\"]]\n",
        "))\n",
        "\n",
        "print(cosine_similarity(\n",
        "    w2v_model.W[dataset.stoi[\"shire\"]],\n",
        "    w2v_model.C[dataset.stoi[\"aragorn\"]]\n",
        "))\n",
        "\n",
        "# print(w2v_model.W[dataset.stoi[\"in\"]])\n",
        "# print(w2v_model.W[dataset.stoi[\"the\"]])\n",
        "# print(cosine_similarity(\n",
        "#     w2v_model.W[dataset.stoi[\"in\"]],\n",
        "#     w2v_model.C[dataset.stoi[\"the\"]]\n",
        "# ))\n",
        "\n",
        "# print(cosine_similarity(\n",
        "#     np.array([1, 2, 3, 4]),\n",
        "#     np.array([1, 2, 3, 5])\n",
        "# ))\n"
      ]
    },
    {
      "cell_type": "markdown",
      "metadata": {
        "id": "WXlRttekHvPC"
      },
      "source": [
        "## Part 2 - Learning Embeddings with Neural Networks [50 points]\n",
        "\n",
        "Now to spice things up.\n",
        "\n",
        "In this part, you will frame the learning problem as a Neural Network trying to predict the center word of a window, given some _pooled_ representation of the context words. This is an updated version of the `word2vec` algorithm, only coming out the year after the original 2013 paper.\n",
        "\n",
        "You will create a Neural Network to do this task, with the following setup:\n",
        "\n",
        "- The model will take in a matrix of size `(batch_size, vocab_size)` representing the context words' pooled representation. We will define how this pooling is done later.\n",
        "\n",
        "- The model will output a matrix of size `(batch_size, vocab_size)` representing the probability distribution over the vocabulary.\n",
        "\n",
        "- The model will have one hidden layer of size `emb_dim`. This means that there are two weight matrices (and bias vectors) to be learned - these will form the Embeddings for our tokens.\n",
        "\n",
        "- The same dataset as before will be used, so we will use the `get_windows` function in the cell below."
      ]
    },
    {
      "cell_type": "code",
      "execution_count": null,
      "metadata": {
        "id": "91raYDhdHvPE"
      },
      "outputs": [],
      "source": [
        "# Import in the libraries\n",
        "# Note: you are NOT allowed to use any other libraries or functions outside of these\n",
        "\n",
        "import os\n",
        "import re\n",
        "from typing import List, Union\n",
        "\n",
        "import numpy as np\n",
        "from nltk.tokenize import word_tokenize\n",
        "import matplotlib.pyplot as plt"
      ]
    },
    {
      "cell_type": "code",
      "execution_count": null,
      "metadata": {
        "id": "l25nxxoNHvPF"
      },
      "outputs": [],
      "source": [
        "# Ready the dataset again\n",
        "context_words, target_words = get_windows(\n",
        "    dataset.tokens[:2000],\n",
        "    ctx_size=3\n",
        ")\n",
        "\n",
        "# Encode the entirety of the context words\n",
        "encode = lambda x: [dataset.stoi[c] for c in x] if isinstance(x, list) else dataset.stoi[x]\n",
        "context_words = [encode(cw) for cw in context_words]"
      ]
    },
    {
      "cell_type": "markdown",
      "metadata": {
        "id": "q_aM77K_HvPF"
      },
      "source": [
        "### Creating our Dataset\n",
        "\n",
        "Again, the input will be a pooled representation of the context words. When we batch multiple windows together, the input matrix will be of size `(batch_size, vocab_size)`.\n",
        "\n",
        "First, we will represent each individual _word_ as a One-Hot Vector (since we're learning Embeddings, we have nothing better, in this situation).\n",
        "\n",
        "Now, for each window, suppose you have $C$ context words, and one target word. This means if you stack up all your context words' One-Hot representations, you will have a `(C, vocab_size)` matrix.\n",
        "\n",
        "We can pool these by simply taking the mean along the first axis, such that the result would be a single vector of length `vocab_size`.\n",
        "\n",
        "---\n",
        "\n",
        "This operation would look like the following (suppose the `vocab_size` is 5 for this example, and we have 4 context words):\n",
        "\n",
        "1. Stack up the One-Hot Vectors:\n",
        "```python\n",
        "    [\n",
        "        [0, 0, 0, 1, 0],\n",
        "        [1, 0, 0, 0, 0],\n",
        "        [0, 1, 0, 0, 0],\n",
        "        [0, 0, 0, 1, 0]\n",
        "    ]\n",
        "```\n",
        "\n",
        "2. Take the mean along the first axis to get your pooled representation for a single window:\n",
        "```python\n",
        "    [0.25, 0.25, 0  , 0.5 , 0]\n",
        "```\n",
        "\n",
        "3. The result of step 2 will be an input to the Neural Network. You can batch together multiple of these windows to get a matrix of `(batch_size, vocab_size)`.\n",
        "\n",
        "---\n",
        "\n",
        "In the cell below, you will define\n",
        "\n",
        "- A function to `one_hot_encode` a single vector. This is as simple as filling in a vector of `vocab_size` zeros with a one at some index.\n",
        "\n",
        "- A function to do the following operation: `context_words_to_vector` will stack the input context words and take the mean in the fashion described above."
      ]
    },
    {
      "cell_type": "code",
      "execution_count": null,
      "metadata": {
        "colab": {
          "base_uri": "https://localhost:8080/"
        },
        "id": "phQI2Q71HvPG",
        "outputId": "d235e55d-8c37-4aed-b553-c93a5a6c1842"
      },
      "outputs": [
        {
          "data": {
            "text/plain": [
              "((1994, 8451), (1994,))"
            ]
          },
          "execution_count": 38,
          "metadata": {},
          "output_type": "execute_result"
        }
      ],
      "source": [
        "x = context_words[0]\n",
        "y = encode(target_words[0])\n",
        "vocab_size = dataset.vocab_size\n",
        "\n",
        "def one_hot_encode(idx, vocab_size):\n",
        "    ## Your code here\n",
        "    ans = np.zeros(vocab_size)\n",
        "    ans[idx] = 1\n",
        "    return ans\n",
        "    ## --\n",
        "\n",
        "\n",
        "def context_words_to_vector(context, vocab_size):\n",
        "    ## Your code here\n",
        "    ans = []\n",
        "    for i in range(len(context)):\n",
        "        temp = []\n",
        "        temp = one_hot_encode(context[i], vocab_size)\n",
        "        ans.append(temp)\n",
        "\n",
        "    ans = np.mean(ans, axis=0)\n",
        "    return ans\n",
        "\n",
        "\n",
        "    ## --\n",
        "\n",
        "X = np.array([context_words_to_vector(cw, vocab_size) for cw in context_words])\n",
        "\n",
        "# The targets will be the indices of the target words, so this is just a vector\n",
        "y = np.array([encode(t) for t in target_words])\n",
        "\n",
        "# You can verify the correctness by looking at the shapes (or by running the test example in the markdown above)\n",
        "X.shape, y.shape"
      ]
    },
    {
      "cell_type": "code",
      "execution_count": null,
      "metadata": {
        "colab": {
          "base_uri": "https://localhost:8080/"
        },
        "id": "PCMcwBx-4xFR",
        "outputId": "cef56e16-6e69-45b4-cb00-0c02528c32bf"
      },
      "outputs": [
        {
          "name": "stdout",
          "output_type": "stream",
          "text": [
            "[2.         1.66666667 1.66666667]\n"
          ]
        }
      ],
      "source": [
        "temp = [\n",
        "    [1, 2, 3],\n",
        "    [0, 2, 3],\n",
        "    [0, 5, 0]\n",
        "]\n",
        "\n",
        "print(np.mean(temp, axis=1))"
      ]
    },
    {
      "cell_type": "markdown",
      "metadata": {
        "id": "o7lbuwD8HvPG"
      },
      "source": [
        "### Creating our Neural Language Model\n",
        "\n",
        "Now, you will create your model to do the objective mentioned before.\n",
        "\n",
        "Since this is a Multiclass Classification objective, i.e. the model will be predicting the probability distribution of the target word over the vocab, you will have to use the Softmax function.\n",
        "\n",
        "Your objective here is to complete the implementation of the `NeuralLM` class defined below.\n",
        "\n",
        "Note that since we have a single hidden layer (which should use the `tanh` activation function), the first weight matrix will be of shape `(vocab_size, emb_dim)` and the second will be of shape `(emb_dim, vocab_size)`. We will use these two weight matrices to represent our Embedding matrix, since all we need is a vector of size `emb_dim` for each token in the vocab :)\n",
        "\n",
        "Your forward pass will look like the following:\n",
        "\n",
        "$$Z = X W^{[1]} + b^{[1]}$$\n",
        "$$A = \\tanh(Z)$$\n",
        "$$\\hat Y = A W^{[2]} + b^{[2]}$$\n"
      ]
    },
    {
      "cell_type": "markdown",
      "metadata": {
        "id": "QXQyF4gdHvPH"
      },
      "source": [
        "<details>    \n",
        "<summary>\n",
        "    <font size=\"3\" color=\"darkgreen\"><b>Hints</b></font>\n",
        "</summary>\n",
        "<p>\n",
        "<ul>\n",
        "    <li>The derivative of tanh(z) is 1 - tanh(z)**2</li>\n",
        "    <li>You might find it helpful to reference the tutorial notebook for Neural Networks on LMS.</li>\n",
        "</ul>\n",
        "</p>"
      ]
    },
    {
      "cell_type": "code",
      "execution_count": null,
      "metadata": {
        "id": "4agAdw5LHvPH"
      },
      "outputs": [],
      "source": [
        "def softmax(x):\n",
        "    return np.exp(x) / np.exp(x).sum(axis=-1, keepdims=True)\n",
        "\n",
        "class NeuralLM:\n",
        "\n",
        "    def __init__(self, vocab_size, emb_dim):\n",
        "        self.vocab_size = vocab_size\n",
        "        self.emb_dim = emb_dim\n",
        "\n",
        "        self.W1 = np.random.rand(vocab_size, emb_dim)\n",
        "        self.b1 = np.zeros(emb_dim)\n",
        "        self.W2 = np.random.rand(emb_dim, vocab_size)\n",
        "        self.b2 = np.zeros(vocab_size)\n",
        "\n",
        "        # Caching the activations and the gradients can make things very convenient\n",
        "        self.activations = {}\n",
        "        self.gradients = {}\n",
        "\n",
        "    def forward(self, x):\n",
        "        '''\n",
        "        Performs the forward pass for our Neural Net\n",
        "        '''\n",
        "        ## Your code here\n",
        "        z = np.dot(x, self.W1) + self.b1\n",
        "        a = np.tanh(z)\n",
        "        yhat = np.dot(a, self.W2) + self.b2\n",
        "\n",
        "        self.activations['z'] = z\n",
        "        self.activations['a'] = a\n",
        "        self.activations['yhat'] = yhat\n",
        "\n",
        "        # yhat = softmax(yhat)\n",
        "        ## --\n",
        "        return yhat\n",
        "\n",
        "    def backward(self, x, y):\n",
        "        '''\n",
        "        Performs the backward pass for our Neural Net, computing the gradients required for updates\n",
        "        '''\n",
        "\n",
        "        ## Your code here\n",
        "        n = len(y)\n",
        "        logits = self.activations['yhat']\n",
        "        dlogits = softmax(logits)\n",
        "\n",
        "        dlogits[range(n), y] -= 1\n",
        "        dlogits /= n\n",
        "\n",
        "        self.gradients['dz2'] = dlogits\n",
        "        self.gradients['dw2'] = self.activations['a'].T @ self.gradients['dz2']\n",
        "        self.gradients['db2'] = self.gradients['dz2'].sum(axis=0)\n",
        "        self.gradients['da1'] = self.gradients['dz2'] @ self.W2.T\n",
        "\n",
        "        self.gradients['dz1'] = self.gradients['da1'] * (1 - (self.activations['a'])**2)\n",
        "        self.gradients['dw1'] = x.T @ self.gradients['dz1']\n",
        "        self.gradients['db1'] = self.gradients['dz1'].sum(axis=0)\n",
        "        self.gradients['da0'] = self.gradients['dz1'] @ self.W1.T\n",
        "\n",
        "        ## --\n",
        "\n",
        "    def update(self, lr):\n",
        "        '''\n",
        "        Updates the parameters, according to the Gradient Descent algorithm\n",
        "        '''\n",
        "        ## Your code here\n",
        "        self.W1 -= lr * self.gradients['dw1']\n",
        "        self.b1 -= lr * self.gradients['db1']\n",
        "\n",
        "        self.W2 -= lr * self.gradients['dw2']\n",
        "        self.b2 -= lr * self.gradients['db2']\n",
        "        ## --\n",
        "\n",
        "    def fit(self, x, y, epochs=10, lr=0.01):\n",
        "        '''\n",
        "        Runs the entire training loop for the specific number of epochs\n",
        "        '''\n",
        "\n",
        "        losses = []\n",
        "\n",
        "        for epoch in range(epochs):\n",
        "            yhat = self.forward(x)\n",
        "            self.backward(x, y)\n",
        "            self.update(lr)\n",
        "\n",
        "            # Compute loss\n",
        "            logprobas = np.log(softmax(yhat))\n",
        "            loss = -logprobas[range(len(yhat)), y].mean()\n",
        "            print(f\"Epoch {epoch+1}/{epochs} - Loss: {loss:.4f}\")\n",
        "\n",
        "            losses.append(loss)\n",
        "\n",
        "        return losses"
      ]
    },
    {
      "cell_type": "markdown",
      "metadata": {
        "id": "ea1MkjqwHvPH"
      },
      "source": [
        "### Training our model and getting the Embeddings\n",
        "\n",
        "Run the cell below to train your model, and plot the loss curves."
      ]
    },
    {
      "cell_type": "code",
      "execution_count": null,
      "metadata": {
        "colab": {
          "base_uri": "https://localhost:8080/",
          "height": 1000
        },
        "id": "i1OGhMUpHvPI",
        "outputId": "69409f30-deb9-4146-c0d1-a118fd88779c"
      },
      "outputs": [
        {
          "name": "stdout",
          "output_type": "stream",
          "text": [
            "Epoch 1/50 - Loss: 10.1146\n",
            "Epoch 2/50 - Loss: 10.1071\n",
            "Epoch 3/50 - Loss: 10.0995\n",
            "Epoch 4/50 - Loss: 10.0920\n",
            "Epoch 5/50 - Loss: 10.0845\n",
            "Epoch 6/50 - Loss: 10.0770\n",
            "Epoch 7/50 - Loss: 10.0695\n",
            "Epoch 8/50 - Loss: 10.0620\n",
            "Epoch 9/50 - Loss: 10.0545\n",
            "Epoch 10/50 - Loss: 10.0471\n",
            "Epoch 11/50 - Loss: 10.0396\n",
            "Epoch 12/50 - Loss: 10.0322\n",
            "Epoch 13/50 - Loss: 10.0248\n",
            "Epoch 14/50 - Loss: 10.0174\n",
            "Epoch 15/50 - Loss: 10.0100\n",
            "Epoch 16/50 - Loss: 10.0026\n",
            "Epoch 17/50 - Loss: 9.9952\n",
            "Epoch 18/50 - Loss: 9.9879\n",
            "Epoch 19/50 - Loss: 9.9805\n",
            "Epoch 20/50 - Loss: 9.9732\n",
            "Epoch 21/50 - Loss: 9.9659\n",
            "Epoch 22/50 - Loss: 9.9586\n",
            "Epoch 23/50 - Loss: 9.9513\n",
            "Epoch 24/50 - Loss: 9.9440\n",
            "Epoch 25/50 - Loss: 9.9368\n",
            "Epoch 26/50 - Loss: 9.9295\n",
            "Epoch 27/50 - Loss: 9.9223\n",
            "Epoch 28/50 - Loss: 9.9150\n",
            "Epoch 29/50 - Loss: 9.9078\n",
            "Epoch 30/50 - Loss: 9.9006\n",
            "Epoch 31/50 - Loss: 9.8934\n",
            "Epoch 32/50 - Loss: 9.8862\n",
            "Epoch 33/50 - Loss: 9.8791\n",
            "Epoch 34/50 - Loss: 9.8719\n",
            "Epoch 35/50 - Loss: 9.8648\n",
            "Epoch 36/50 - Loss: 9.8576\n",
            "Epoch 37/50 - Loss: 9.8505\n",
            "Epoch 38/50 - Loss: 9.8434\n",
            "Epoch 39/50 - Loss: 9.8363\n",
            "Epoch 40/50 - Loss: 9.8292\n",
            "Epoch 41/50 - Loss: 9.8221\n",
            "Epoch 42/50 - Loss: 9.8151\n",
            "Epoch 43/50 - Loss: 9.8080\n",
            "Epoch 44/50 - Loss: 9.8010\n",
            "Epoch 45/50 - Loss: 9.7940\n",
            "Epoch 46/50 - Loss: 9.7870\n",
            "Epoch 47/50 - Loss: 9.7799\n",
            "Epoch 48/50 - Loss: 9.7730\n",
            "Epoch 49/50 - Loss: 9.7660\n",
            "Epoch 50/50 - Loss: 9.7590\n"
          ]
        },
        {
          "data": {
            "image/png": "[encoded data removed]",
            "text/plain": [
              "<Figure size 640x480 with 1 Axes>"
            ]
          },
          "metadata": {},
          "output_type": "display_data"
        }
      ],
      "source": [
        "model = NeuralLM(vocab_size, emb_dim=100)\n",
        "losses = model.fit(X, y, epochs=50, lr=0.01)\n",
        "\n",
        "# Plot the loss curves\n",
        "plt.plot(losses)\n",
        "plt.xlabel(\"Epoch\")\n",
        "plt.ylabel(\"Loss\")\n",
        "plt.title(\"Loss curve for NeuralLM\")\n",
        "plt.show()"
      ]
    },
    {
      "cell_type": "markdown",
      "metadata": {
        "id": "qqr_-3HpHvPI"
      },
      "source": [
        "Now that you've hopefully seen the model improving, we can extract its weight matrices to use as the Embeddings.\n",
        "\n",
        "We have the choice of using either one, or we could do something really funny and take the average of both."
      ]
    },
    {
      "cell_type": "code",
      "execution_count": null,
      "metadata": {
        "colab": {
          "base_uri": "https://localhost:8080/"
        },
        "id": "b97zYEfwHvPJ",
        "outputId": "a37c5a1f-ba90-4996-c18e-e01a21020242"
      },
      "outputs": [
        {
          "name": "stdout",
          "output_type": "stream",
          "text": [
            "0.8347801244078569\n",
            "0.8408144449583019\n",
            "0.8263634424627997\n",
            "0.8650258993718495\n"
          ]
        }
      ],
      "source": [
        "# Get the embeddings from the model\n",
        "embedding_matrix = (model.W1 + model.W2.T) / 2\n",
        "\n",
        "print(cosine_similarity(\n",
        "    embedding_matrix[dataset.stoi[\"frodo\"]],\n",
        "    embedding_matrix[dataset.stoi[\"sam\"]]\n",
        "))\n",
        "\n",
        "print(cosine_similarity(\n",
        "    embedding_matrix[dataset.stoi[\"gandalf\"]],\n",
        "    embedding_matrix[dataset.stoi[\"white\"]]\n",
        "))\n",
        "\n",
        "print(cosine_similarity(\n",
        "    embedding_matrix[dataset.stoi[\"mordor\"]],\n",
        "    embedding_matrix[dataset.stoi[\"frodo\"]]\n",
        "))\n",
        "\n",
        "print(cosine_similarity(\n",
        "    embedding_matrix[dataset.stoi[\"shire\"]],\n",
        "    embedding_matrix[dataset.stoi[\"aragorn\"]]\n",
        "))"
      ]
    },
    {
      "cell_type": "markdown",
      "metadata": {
        "id": "qmK5mwjSHvPJ"
      },
      "source": [
        "Think about whether these performed better than the previous ones, and why."
      ]
    },
    {
      "cell_type": "markdown",
      "metadata": {
        "id": "Od1oagemHvPK"
      },
      "source": [
        "## Part 3 - Playing with Word Vectors [20 points]\n",
        "\n",
        "The intensive parts of this assignment are over - now we'll play with pretrained embeddings, i.e. embeddings that someone else has trained.\n",
        "\n",
        "We will use the GloVe embeddings from `gensim`, a Python library made for interacting with word vectors.\n",
        "\n",
        "In the cells below, we will make our imports, load in our embeddings, and construct our numpy matrix."
      ]
    },
    {
      "cell_type": "code",
      "execution_count": null,
      "metadata": {
        "id": "XuNwYb5CHvPK"
      },
      "outputs": [],
      "source": [
        "import numpy as np\n",
        "import matplotlib.pyplot as plt\n",
        "from sklearn.decomposition import TruncatedSVD\n",
        "import gensim.downloader as api\n",
        "from pprint import pprint\n",
        "\n",
        "def load_embedding_model():\n",
        "    '''\n",
        "    Loads the GloVe embeddings from gensim\n",
        "    '''\n",
        "    gensim_wv = api.load(\"glove-wiki-gigaword-200\")\n",
        "    print(f\"Loaded embeddings with vocab size {len(gensim_wv.key_to_index)} with vector size {gensim_wv.vector_size}\")\n",
        "    return gensim_wv"
      ]
    },
    {
      "cell_type": "code",
      "execution_count": null,
      "metadata": {
        "colab": {
          "base_uri": "https://localhost:8080/"
        },
        "id": "JWhxWVzAHvPM",
        "outputId": "7987885f-4279-4f25-deb6-4410835013d8"
      },
      "outputs": [
        {
          "name": "stdout",
          "output_type": "stream",
          "text": [
            "Loaded embeddings with vocab size 400000 with vector size 200\n"
          ]
        }
      ],
      "source": [
        "# Load in the Embeddings (this can take ~8 minutes)\n",
        "gensim_wv = load_embedding_model()"
      ]
    },
    {
      "cell_type": "code",
      "execution_count": null,
      "metadata": {
        "colab": {
          "base_uri": "https://localhost:8080/"
        },
        "id": "-vQ_Sn0MHvPN",
        "outputId": "8708e45b-e484-4ab2-b9c0-ad673495fc2c"
      },
      "outputs": [
        {
          "name": "stdout",
          "output_type": "stream",
          "text": [
            "Done.\n",
            "Shape of the embedding matrix: (400000, 200)\n"
          ]
        }
      ],
      "source": [
        "def get_embedding_matrix(gensim_wv):\n",
        "\n",
        "    # Get the words in the vocab\n",
        "    words = list(gensim_wv.index_to_key)\n",
        "    stoi = {}\n",
        "    M = []\n",
        "    curInd = 0\n",
        "\n",
        "    # Add the words to the matrix M\n",
        "    for w in words:\n",
        "        try:\n",
        "            M.append(gensim_wv.get_vector(w))\n",
        "            stoi[w] = curInd\n",
        "            curInd += 1\n",
        "        except KeyError:\n",
        "            continue\n",
        "\n",
        "    # Convert the list of vectors to a numpy matrix\n",
        "    M = np.stack(M)\n",
        "    print(\"Done.\")\n",
        "\n",
        "    return M, stoi\n",
        "\n",
        "M, stoi = get_embedding_matrix(gensim_wv)\n",
        "print(f\"Shape of the embedding matrix: {M.shape}\")"
      ]
    },
    {
      "cell_type": "markdown",
      "metadata": {
        "id": "420fhC6-HvPN"
      },
      "source": [
        "### Visualizing our embeddings\n",
        "\n",
        "Now that we've created our matrix, let's work on visualizing them.\n",
        "\n",
        "The issue with these embeddings is that they are in 200 dimensions. Most humans can't see beyond 3 dimensions, and it's convenient to plot in 2.\n",
        "\n",
        "One nifty trick we can do to _squish_ down a vector in higher dimensions, to something in fewer dimensions, is to utilize **Dimensionality Reduction** techniques. This will learn the ambient structure in the data, and use it to capture as much information (technically, the \"variance\") in the amount of dimensions you want.\n",
        "\n",
        "Most people go with [PCA](https://en.wikipedia.org/wiki/Principal_component_analysis) or [t-SNE](https://en.wikipedia.org/wiki/T-distributed_stochastic_neighbor_embedding) for this. We will go with a variant of [Singular Value Decomposition](https://en.wikipedia.org/wiki/Singular_value_decomposition), a method to factorize a matrix.\n",
        "\n",
        "You can read up on the documentation for the `sklearn` implementation [here](https://scikit-learn.org/stable/modules/generated/sklearn.decomposition.TruncatedSVD.html).\n",
        "\n",
        "In the cell below, implement the `reduce_to_k_dim` algorithm, where you run `TruncatedSVD` to squish your `(vocab_size, emb_dim)` matrix to `(vocab_size, K)`, where `K` is much smaller than `emb_dim`."
      ]
    },
    {
      "cell_type": "code",
      "execution_count": null,
      "metadata": {
        "colab": {
          "base_uri": "https://localhost:8080/"
        },
        "id": "8zCFlCcAHvPN",
        "outputId": "e1cafa4c-24dc-4848-998c-1acc109e644e"
      },
      "outputs": [
        {
          "name": "stdout",
          "output_type": "stream",
          "text": [
            "Running Truncated SVD over 10 iterations...\n",
            "Shape of the reduced matrix: (400000, 2)\n"
          ]
        }
      ],
      "source": [
        "def reduce_to_k_dim(M, k=2):\n",
        "    '''\n",
        "    Reduce a matrix of shape (num_words, num_dim) to (num_words, k) dimensions\n",
        "    '''\n",
        "    n_iters = 10\n",
        "    print(f\"Running Truncated SVD over {n_iters} iterations...\")\n",
        "\n",
        "    ## Your code here\n",
        "    temp = TruncatedSVD(n_components=k, n_iter=n_iters, random_state=42)\n",
        "\n",
        "    M_reduced = temp.fit_transform(M)\n",
        "\n",
        "    ## --\n",
        "\n",
        "    return M_reduced\n",
        "\n",
        "# Reduce the matrix to 2 dimensions\n",
        "M_reduced = reduce_to_k_dim(M, k=2)\n",
        "\n",
        "# Normalize the rows to make them of unit length (helps with visualization)\n",
        "M_reduced_unit = M_reduced / np.linalg.norm(M_reduced, axis=1, keepdims=True)\n",
        "\n",
        "print(f\"Shape of the reduced matrix: {M_reduced_unit.shape}\")"
      ]
    },
    {
      "cell_type": "markdown",
      "metadata": {
        "id": "IvdGF45yHvPO"
      },
      "source": [
        "In the cell below, you can plot out the embeddings from the reduced matrix. Note that since we squished the information coming from 200 dimensions into just 2, we won't have a perfect visualization by any means, but it's still worth studying.\n",
        "\n",
        "In the cell below, you can fill `words_to_plot` with words whose embeddings you'd like to see in a scatterplot. If you wish to join pairs of words, you can pass them in as pairs in the `pairs_to_join` variable."
      ]
    },
    {
      "cell_type": "code",
      "execution_count": null,
      "metadata": {
        "colab": {
          "base_uri": "https://localhost:8080/",
          "height": 807
        },
        "id": "olGBAc4oHvPO",
        "outputId": "ed6a345d-93b9-40bf-b7cb-1854a8fc933d"
      },
      "outputs": [
        {
          "data": {
            "image/png": "[encoded data removed]",
            "text/plain": [
              "<Figure size 800x800 with 1 Axes>"
            ]
          },
          "metadata": {},
          "output_type": "display_data"
        }
      ],
      "source": [
        "def plot_embeddings(M_reduced_unit, words, stoi, pairs_to_join):\n",
        "    '''\n",
        "    Produces a scatterplot of the embeddings with the words annotated\n",
        "\n",
        "    Parameters:\n",
        "    M_reduced_unit : np.ndarray\n",
        "        The reduced matrix of embeddings\n",
        "    words : List[str]\n",
        "        The words to annotate\n",
        "    '''\n",
        "    fig, ax = plt.subplots(figsize=(8, 8))\n",
        "\n",
        "    for i, txt in enumerate(words):\n",
        "        word_ind = stoi.get(txt)\n",
        "        ax.scatter(M_reduced_unit[word_ind, 0], M_reduced_unit[word_ind, 1])\n",
        "        ax.annotate(txt, (M_reduced_unit[word_ind, 0], M_reduced_unit[word_ind, 1]))\n",
        "\n",
        "    for pair in pairs_to_join:\n",
        "        w1, w2 = pair\n",
        "        w1_ind = stoi.get(w1)\n",
        "        w2_ind = stoi.get(w2)\n",
        "        ax.plot([M_reduced_unit[w1_ind, 0], M_reduced_unit[w2_ind, 0]],\n",
        "                [M_reduced_unit[w1_ind, 1], M_reduced_unit[w2_ind, 1]], 'k-')\n",
        "\n",
        "    plt.tight_layout()\n",
        "    plt.show()\n",
        "\n",
        "words_to_plot = [\"berlin\", \"germany\", \"paris\", \"france\", \"rome\", \"italy\", \"london\", \"england\"]\n",
        "pairs_to_join = [(\"berlin\", \"germany\"), (\"paris\", \"france\"), (\"rome\", \"italy\"), (\"london\", \"england\")]\n",
        "plot_embeddings(M_reduced_unit, words_to_plot, stoi, pairs_to_join)"
      ]
    },
    {
      "cell_type": "markdown",
      "metadata": {
        "id": "DTgQzCFBHvPP"
      },
      "source": [
        "### Analogies with Word Vectors\n",
        "\n",
        "Recall from the lectures that word vectors let us capture relationships between words. This means we can use vector arithmetic to create _analogies_.\n",
        "\n",
        "For example, if we had an embedding matrix E, and we wanted to find the relationship between `king` and `man`, and `queen` and `woman`, we would find\n",
        "\n",
        "$$E[\\text{king}] - E[\\text{man}] \\approx E[\\text{queen}] - E[\\text{woman}]$$\n",
        "\n",
        "`gensim` makes this really easy for us. To save time, we can use the `most_similar` function to capture the nearest neighbors to the vector you get when \"constructing the parallelogram\" (from lecture)."
      ]
    },
    {
      "cell_type": "code",
      "execution_count": null,
      "metadata": {
        "colab": {
          "base_uri": "https://localhost:8080/"
        },
        "id": "WvEJCKk3HvPP",
        "outputId": "4ded8c02-7472-4216-c01b-794bb09ce2dc"
      },
      "outputs": [
        {
          "data": {
            "text/plain": [
              "[('queen', 0.6978678107261658),\n",
              " ('princess', 0.6081745028495789),\n",
              " ('monarch', 0.5889754891395569),\n",
              " ('throne', 0.5775108933448792),\n",
              " ('prince', 0.5750998258590698),\n",
              " ('elizabeth', 0.5463595986366272),\n",
              " ('daughter', 0.5399126410484314),\n",
              " ('kingdom', 0.5318052768707275),\n",
              " ('mother', 0.5168544054031372),\n",
              " ('crown', 0.5164473056793213)]"
            ]
          },
          "execution_count": 48,
          "metadata": {},
          "output_type": "execute_result"
        }
      ],
      "source": [
        "# \"king is to man, as ??? is to woman\"\n",
        "gensim_wv.most_similar(\n",
        "    positive=['woman', 'king'],\n",
        "    negative=['man']\n",
        ")"
      ]
    },
    {
      "cell_type": "markdown",
      "metadata": {
        "id": "bWgwLhtsHvPP"
      },
      "source": [
        "These are not perfect by any means. Run the cell below to see one case of the arithmetic failing.\n",
        "\n",
        "Write a few words about why this might be the case - there's a very reasonable explanation, provided you don't use the metric system ;)"
      ]
    },
    {
      "cell_type": "code",
      "execution_count": null,
      "metadata": {
        "colab": {
          "base_uri": "https://localhost:8080/"
        },
        "id": "ruz17VXXHvPP",
        "outputId": "3f490d2f-5739-4033-ff74-5758c8073e62"
      },
      "outputs": [
        {
          "data": {
            "text/plain": [
              "[('45,000-square', 0.4922032654285431),\n",
              " ('15,000-square', 0.4649604558944702),\n",
              " ('10,000-square', 0.4544755816459656),\n",
              " ('6,000-square', 0.44975775480270386),\n",
              " ('3,500-square', 0.444133460521698),\n",
              " ('700-square', 0.44257497787475586),\n",
              " ('50,000-square', 0.4356396794319153),\n",
              " ('3,000-square', 0.43486514687538147),\n",
              " ('30,000-square', 0.4330596923828125),\n",
              " ('footed', 0.43236875534057617)]"
            ]
          },
          "execution_count": 49,
          "metadata": {},
          "output_type": "execute_result"
        }
      ],
      "source": [
        "# \"glove is to hand as ??? is to foot\"\n",
        "gensim_wv.most_similar(\n",
        "    positive=['foot', 'glove'],\n",
        "    negative=['hand']\n",
        ")"
      ]
    },
    {
      "cell_type": "markdown",
      "metadata": {
        "id": "-vPGommGHvPQ"
      },
      "source": [
        "<div style=\"color: green\"> This is probably because the word \"foot\" is also used as a unit of measurement. It is polysemous. Word embeddings look at the context the word appears in and in this case the word foot mostly apppears as a unit of measurement , thats why we get numbers as output</div>"
      ]
    },
    {
      "cell_type": "markdown",
      "metadata": {
        "id": "Rg3ZNuibHvPQ"
      },
      "source": [
        "Lastly, it's important to know that biases and stigmas are implicit inside these word embeddings.\n",
        "\n",
        "Run the cell below, to examine (a) which terms are most similar to \"woman\" and \"profession\" and most dissimilar to \"man\", and (b) which terms are most similar to \"man\" and \"profession\" and most dissimilar to \"woman\".\n",
        "\n",
        "Point out the difference between the list of female-associated words and the list of male-associated words, and explain how it is reflecting gender bias."
      ]
    },
    {
      "cell_type": "code",
      "execution_count": null,
      "metadata": {
        "colab": {
          "base_uri": "https://localhost:8080/"
        },
        "id": "XyoJsG1NHvPR",
        "outputId": "347e98ec-fa84-4db8-919b-b1f9cf7cdc24"
      },
      "outputs": [
        {
          "name": "stdout",
          "output_type": "stream",
          "text": [
            "[('reputation', 0.5250176787376404),\n",
            " ('professions', 0.5178037881851196),\n",
            " ('skill', 0.49046966433525085),\n",
            " ('skills', 0.49005505442619324),\n",
            " ('ethic', 0.4897659420967102),\n",
            " ('business', 0.4875852167606354),\n",
            " ('respected', 0.485920250415802),\n",
            " ('practice', 0.482104629278183),\n",
            " ('regarded', 0.4778572618961334),\n",
            " ('life', 0.4760662019252777)]\n",
            "-------------------------\n",
            "[('professions', 0.5957457423210144),\n",
            " ('practitioner', 0.49884122610092163),\n",
            " ('teaching', 0.48292139172554016),\n",
            " ('nursing', 0.48211804032325745),\n",
            " ('vocation', 0.4788965880870819),\n",
            " ('teacher', 0.47160351276397705),\n",
            " ('practicing', 0.46937814354896545),\n",
            " ('educator', 0.46524327993392944),\n",
            " ('physicians', 0.4628995358943939),\n",
            " ('professionals', 0.4601394236087799)]\n"
          ]
        }
      ],
      "source": [
        "# Here `positive` indicates the list of words to be similar to and `negative` indicates the list of words to be\n",
        "# most dissimilar from.\n",
        "pprint(gensim_wv.most_similar(positive=['man', 'profession'], negative=['woman']))\n",
        "print('-'*25)\n",
        "pprint(gensim_wv.most_similar(positive=['woman', 'profession'], negative=['man']))"
      ]
    },
    {
      "cell_type": "markdown",
      "metadata": {
        "id": "QFqSrp3sHvPT"
      },
      "source": [
        "<div style=\"color: green\"> There is a gender bias present, as caregiving professions like teaching, nursing etc are associated with women, while business and high status roles are associated with men </div>"
      ]
    },
    {
      "cell_type": "markdown",
      "metadata": {
        "id": "C_P74a4qHvPU"
      },
      "source": [
        "# Fin."
      ]
    }
  ],
  "metadata": {
    "colab": {
      "provenance": []
    },
    "kernelspec": {
      "display_name": "envx",
      "language": "python",
      "name": "python3"
    },
    "language_info": {
      "codemirror_mode": {
        "name": "ipython",
        "version": 3
      },
      "file_extension": ".py",
      "mimetype": "text/x-python",
      "name": "python",
      "nbconvert_exporter": "python",
      "pygments_lexer": "ipython3",
      "version": "3.8.10"
    }
  },
  "nbformat": 4,
  "nbformat_minor": 0
}
